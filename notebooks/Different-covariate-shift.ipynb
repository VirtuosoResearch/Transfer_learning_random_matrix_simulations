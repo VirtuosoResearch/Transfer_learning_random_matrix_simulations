{
 "cells": [
  {
   "cell_type": "code",
   "execution_count": 1,
   "metadata": {},
   "outputs": [],
   "source": [
    "%load_ext autoreload\n",
    "%autoreload 2\n",
    "%matplotlib inline"
   ]
  },
  {
   "cell_type": "code",
   "execution_count": 2,
   "metadata": {},
   "outputs": [],
   "source": [
    "import matplotlib.pyplot as plt\n",
    "import numpy as np\n",
    "import math\n",
    "from scipy.optimize import minimize_scalar\n",
    "\n",
    "np.random.seed(0)"
   ]
  },
  {
   "cell_type": "code",
   "execution_count": 3,
   "metadata": {},
   "outputs": [],
   "source": [
    "def get_coeff(c_1, c_2, scale):\n",
    "    scale_sq = scale ** 2\n",
    "    part1 = (c_1 - 1) / (c_1 + c_2) + scale_sq / (1 - scale_sq)\n",
    "    part2 = part1 ** 2 + (scale_sq / (1 - scale_sq)) * 4 * c_2 / (c_1 + c_2)**2\n",
    "    assert(part2 >= 0)\n",
    "    \n",
    "    a_1_option1 = (c_1 - 1) / (c_1 + c_2) - (part1 + math.sqrt(part2)) / 2\n",
    "    a_1_option2 = (c_1 - 1) / (c_1 + c_2) - (part1 - math.sqrt(part2)) / 2\n",
    "    isvalid_option1 = a_1_option1 > (c_1 - 1)/(c_1 + c_2) and a_1_option1 < c_1/(c_1 + c_2)\n",
    "    isvalid_option2 = a_1_option2 > (c_1 - 1)/(c_1 + c_2) and a_1_option2 < c_1/(c_1 + c_2)\n",
    "\n",
    "    assert(isvalid_option1 or isvalid_option2)\n",
    "    assert(not (isvalid_option1 and isvalid_option2))\n",
    "    \n",
    "    a_1 = a_1_option1 if isvalid_option1 else a_1_option2\n",
    "    a_2 = 1 - 1/(c_1 + c_2) - a_1\n",
    "    return (a_1, a_2)\n",
    "\n",
    "def te(c_1, c_2, scale):\n",
    "    a_1, a_2 = get_coeff(c_1, c_2, scale)\n",
    "    te = 1/ ((c_1 + c_2) * a_1 / scale**2 + (c_1 + c_2) * a_2)\n",
    "    return te"
   ]
  },
  {
   "cell_type": "markdown",
   "metadata": {},
   "source": [
    "## Complementary covariance matrices"
   ]
  },
  {
   "cell_type": "code",
   "execution_count": 4,
   "metadata": {},
   "outputs": [],
   "source": [
    "def get_coeff2(c_1, c_2, scale):\n",
    "    d = (scale - 1.0/scale)**2\n",
    "    coeff = [0 for i in range(4)]\n",
    "    coeff[0] = -d\n",
    "    coeff[1] = d * (1 + (c_1 - 1.5)/(c_1 + c_2))\n",
    "    coeff[2] = 1 - 1/(c_1 + c_2) - (1 - 1/(c_1 + c_2)) * ((c_1 - 0.5) / (c_1 + c_2)) * d\n",
    "    coeff[3] = - (c_1/(c_1 + c_2)) * (1 - 1/(c_1 + c_2))**2\n",
    "    A = np.roots(coeff)\n",
    "    a_1 = 0\n",
    "    num_valid = 0\n",
    "    for a in A:\n",
    "        if abs(np.imag(a)) <= 0.000001 and a > (c_1 - 1)/(c_1 + c_2) and a < c_1/(c_1 + c_2):\n",
    "            a_1 = a\n",
    "            num_valid += 1\n",
    "            \n",
    "    assert(num_valid == 1)\n",
    "    a_2 = 1 - 1/(c_1 + c_2) - a_1\n",
    "    return (a_1, a_2)\n",
    "\n",
    "def te2(c_1, c_2, scale):\n",
    "    if scale == 1:\n",
    "        return 1/ (c_1 + c_2 - 1)\n",
    "    \n",
    "    a_1, a_2 = get_coeff2(c_1, c_2, scale)\n",
    "    scale_sq = scale**2\n",
    "    te = 0.5 / ((c_1 + c_2) * (scale_sq * a_1 + a_2))\n",
    "    te += 0.5 / ((c_1 + c_2) * (a_1 / scale_sq + a_2))\n",
    "    return te"
   ]
  },
  {
   "cell_type": "code",
   "execution_count": 5,
   "metadata": {},
   "outputs": [
    {
     "data": {
      "text/plain": [
       "0.14285714285714293"
      ]
     },
     "execution_count": 5,
     "metadata": {},
     "output_type": "execute_result"
    }
   ],
   "source": [
    "c_1 = 4.0\n",
    "c_2 = 4.0\n",
    "scale = 10.0\n",
    "\n",
    "te2(c_1, c_2, scale)"
   ]
  },
  {
   "cell_type": "markdown",
   "metadata": {},
   "source": [
    "# empirical"
   ]
  },
  {
   "cell_type": "code",
   "execution_count": 6,
   "metadata": {},
   "outputs": [],
   "source": [
    "# params\n",
    "p = 200\n",
    "c1 = 4\n",
    "c2 = 4\n",
    "n2 = c2 * p\n",
    "sigma = 0.5\n",
    "\n",
    "# covariates\n",
    "X2 = np.random.randn(n2, p)\n",
    "\n",
    "# models\n",
    "beta_t = np.random.randn(p, 1) / math.sqrt(p)\n",
    "\n",
    "# labels\n",
    "Y2 = X2 @ beta_t + sigma * np.random.randn(n2, 1)\n",
    "hat_beta_t = np.linalg.inv(X2.T @ X2) @ X2.T @ Y2\n",
    "\n",
    "def te_target(X1, X2, beta_s, beta_t, w, sigma_2 = sigma, Sigma2_sqrt = np.eye(p)):\n",
    "    K = np.linalg.inv(w**2 * X1.T @ X1 + X2.T @ X2)\n",
    "    beta_diff = beta_s - w * beta_t\n",
    "    \n",
    "    var = sigma_2**2 * np.trace(K @ Sigma2_sqrt @ Sigma2_sqrt)\n",
    "    model_shift_bias = w**2 * np.linalg.norm(Sigma2_sqrt @ K @ X1.T @ X1 @ beta_diff) **2\n",
    "    return model_shift_bias + var\n",
    "\n",
    "def mtl_target(X1, X2, beta_s, beta_t, w, n1, n2, Sigma_1_sqrt = np.eye(p), Sigma_2_sqrt = np.eye(p)):\n",
    "    K = np.linalg.inv(w**2 * X1.T @ X1 + X2.T @ X2)\n",
    "    beta_diff = beta_s - w * beta_t\n",
    "    \n",
    "    var = sigma**2 * (n1 + n2) * np.trace(K)\n",
    "    model_shift_bias = n1 * (np.linalg.norm(K @ X2.T @ X2 @ beta_diff) ** 2)\n",
    "    model_shift_bias += n2 * w**2 * (np.linalg.norm(K @ X1.T @ X1 @ beta_diff) ** 2)\n",
    "    return (model_shift_bias + var) / (n1 + n2)"
   ]
  },
  {
   "cell_type": "code",
   "execution_count": 7,
   "metadata": {},
   "outputs": [],
   "source": [
    "def opt_w_val(X1, X2, beta_s, beta_t, n1, n2, c = 1, lb = 0.0, ub = 5.0, num = 10):\n",
    "    def f_val(w):\n",
    "        return mtl_target(X1, X2, beta_s, beta_t, w, n1, n2)\n",
    "    \n",
    "    gap = ub / num\n",
    "    x_list = []\n",
    "    fun_list = []\n",
    "    for u in range(0, num):\n",
    "        res = minimize_scalar(f_val, bounds=(gap* u, gap* (u+1)), method='bounded')\n",
    "        x_list.append(res.x)\n",
    "        fun_list.append(res.fun)\n",
    "    \n",
    "    plt.figure(c)\n",
    "    plt.plot(x_list, fun_list)\n",
    "    \n",
    "    return x_list[np.argmin(fun_list)]\n",
    "\n",
    "def opt_w(X1, X2, beta_s, beta_t, c = 1, lb = 0.0, ub = 5.0, num = 10):\n",
    "    def f(w):\n",
    "        return te_target(X1, X2, beta_s, beta_t, w)\n",
    "\n",
    "    gap = ub / num\n",
    "    x_list = []\n",
    "    fun_list = []\n",
    "    for u in range(0, num):\n",
    "        res = minimize_scalar(f, bounds=(gap* u, gap* (u+1)), method='bounded')\n",
    "        x_list.append(res.x)\n",
    "        fun_list.append(res.fun)\n",
    "        \n",
    "    plt.figure(c)\n",
    "    plt.plot(x_list, fun_list)\n",
    "        \n",
    "    return x_list[np.argmin(fun_list)]"
   ]
  },
  {
   "cell_type": "code",
   "execution_count": 45,
   "metadata": {},
   "outputs": [],
   "source": [
    "d = 0.00\n",
    "c1_list = np.array([i for i in range(1, 21)])\n",
    "scale_list = [1, 2, 4]\n",
    "\n",
    "te_mtl_list = []\n",
    "\n",
    "provable_pos = [[], []]\n",
    "provable_neg = [[], []]\n",
    "unknown = [[], []]\n",
    "\n",
    "beta_s = beta_t + d * np.random.randn(p, 1)\n",
    "\n",
    "for s in scale_list:\n",
    "    s_diag = s * np.ones(p)\n",
    "    for i in range(int(p/2), p):\n",
    "        s_diag[i] = s_diag[i] / s**2\n",
    "\n",
    "    for c1 in c1_list:\n",
    "        n1 = c1 * p\n",
    "        X1 = np.random.randn(n1, p) @ np.diag(s_diag)\n",
    "        Y1 = X1 @ beta_s + sigma * np.random.randn(n1, 1)\n",
    "\n",
    "        #hat_beta_st = np.linalg.inv(X1.T @ X1 + X2.T @ X2) @ (X1.T @ Y1 + X2.T @ Y2)\n",
    "        hat_w = 1 # opt_w_val(X1, X2, beta_s, beta_t, n1, n2)\n",
    "        te_beta_st = te_target(X1, X2, beta_s, beta_t, hat_w)\n",
    "\n",
    "        #te_beta_st = np.linalg.norm(test_X2 @ hat_beta_st - test_Y2) ** 2 / test_n2\n",
    "        te_mtl_list.append(te_beta_st)\n",
    "\n",
    "        #delta_beta_base = p * c1**2 * (c1 + c2) / (c1 + c2 - 1)**3\n",
    "        #delta_beta = ((1 - hat_w)**2 + d**2) * delta_beta_base\n",
    "        #delta_var = sigma**2 * c1 / ((c2 - 1) * (c1 + c2 - 1))\n",
    "        #deviation_ub = (1 + math.sqrt(1/c1))**4\n",
    "        #deviation_lb = (1 - math.sqrt(1/c1))**4\n",
    "\n",
    "        #if delta_var / delta_beta > deviation_ub:\n",
    "        #    provable_pos[0].append(c1)\n",
    "        #    provable_pos[1].append(te_beta_st)\n",
    "        #elif delta_var / delta_beta < deviation_lb:    \n",
    "        #    provable_neg[0].append(c1)\n",
    "        #    provable_neg[1].append(te_beta_st)\n",
    "        #else:\n",
    "        #    unknown[0].append(c1)\n",
    "        #    unknown[1].append(te_beta_st)"
   ]
  },
  {
   "cell_type": "code",
   "execution_count": 46,
   "metadata": {},
   "outputs": [
    {
     "name": "stdout",
     "output_type": "stream",
     "text": [
      "[[0.0626097126356069, 0.05004800248481098, 0.04168694768041334, 0.035669178201345596, 0.03125666847899632, 0.027939944417553125, 0.025030165353854182, 0.02280392917901908, 0.020875100263100473, 0.019227804669323636, 0.01790423622022142, 0.01670949690828391, 0.015655419772786294, 0.014720792912192578, 0.01395247499336098, 0.013161273378690223, 0.012504618264291261, 0.011912861954232804, 0.01138724890635185, 0.010884120231207507], [0.05644421866737995, 0.045735450284357534, 0.039858354516466105, 0.03579335835454545, 0.032706930659362914, 0.030368663466919094, 0.02837556652235708, 0.02663763159542527, 0.02517176302611636, 0.023943020054206142, 0.022816723965873375, 0.021774010042134077, 0.020890458593004067, 0.019989635969261916, 0.019244222551874073, 0.018524011064285962, 0.017852542257019422, 0.017214197785584487, 0.0167232575237999, 0.016171482951026092], [0.0460283739185092, 0.039773662052876066, 0.03727381663077298, 0.03579481930026592, 0.03466824198569877, 0.03380586888313652, 0.03296838779687686, 0.03226999765753275, 0.03161153980081272, 0.030979990281451573, 0.030417472711774945, 0.029860207286098506, 0.029387154156670783, 0.028901328776456472, 0.028409638220737284, 0.027963418768926537, 0.02755082969226349, 0.02710874964310995, 0.0266800690355509, 0.026338224817915392]]\n",
      "[[0.0625     0.05       0.04166667 0.03571429 0.03125    0.02777778\n",
      "  0.025      0.02272727 0.02083333 0.01923077 0.01785714 0.01666667\n",
      "  0.015625   0.01470588 0.01388889 0.01315789 0.0125     0.01190476\n",
      "  0.01136364 0.01086957]\n",
      " [0.05638791 0.04569767 0.03973334 0.03571429 0.03270924 0.03031914\n",
      "  0.02834138 0.02665998 0.02520241 0.02392022 0.02277933 0.02175477\n",
      "  0.02082768 0.01998342 0.01921039 0.0184992  0.0178422  0.017233\n",
      "  0.01666625 0.01613743]\n",
      " [0.04596091 0.03965008 0.03720357 0.03571429 0.03460671 0.03369571\n",
      "  0.03290362 0.03219189 0.03153901 0.03093183 0.03036177 0.02982287\n",
      "  0.02931082 0.02882237 0.02835498 0.02790661 0.02747559 0.02706054\n",
      "  0.02666025 0.0262737 ]]\n"
     ]
    }
   ],
   "source": [
    "#te_beta_t = te_target(X1, X2, beta_s, beta_t, 0)\n",
    "#improvement_list = te_beta_t - np.array(te_mtl_list)\n",
    "\n",
    "te_emp_list = [te_mtl_list[:20], te_mtl_list[20:40], te_mtl_list[40:60]]\n",
    "\n",
    "print(te_emp_list)\n",
    "\n",
    "te_list = sigma**2 * np.array([[te2(c_1, c_2, scale) for c_1 in c1_list] for scale in scale_list])\n",
    "print(te_list)"
   ]
  },
  {
   "cell_type": "code",
   "execution_count": 47,
   "metadata": {},
   "outputs": [
    {
     "data": {
      "text/plain": [
       "array([ 1,  2,  3,  4,  5,  6,  7,  8,  9, 10, 11, 12, 13, 14, 15, 16, 17,\n",
       "       18, 19, 20])"
      ]
     },
     "execution_count": 47,
     "metadata": {},
     "output_type": "execute_result"
    }
   ],
   "source": [
    "c1_list"
   ]
  },
  {
   "cell_type": "code",
   "execution_count": 72,
   "metadata": {},
   "outputs": [
    {
     "name": "stderr",
     "output_type": "stream",
     "text": [
      "The PostScript backend does not support transparency; partially transparent artists will be rendered opaque.\n",
      "The PostScript backend does not support transparency; partially transparent artists will be rendered opaque.\n"
     ]
    },
    {
     "data": {
      "image/png": "[encoded data removed]",
      "text/plain": [
       "<Figure size 432x288 with 1 Axes>"
      ]
     },
     "metadata": {
      "needs_background": "light"
     },
     "output_type": "display_data"
    }
   ],
   "source": [
    "plt.figure(figsize=(6,4))\n",
    "\n",
    "for i, ts in enumerate(te_list):\n",
    "    if i == 0:\n",
    "        plt.plot(c1_list * p,  te_emp_list[i], ls = ':', c='r', label=r'Empirical: $\\lambda = 1$')\n",
    "        plt.plot(c1_list * p, ts, lw=0.5, c='r', label=r'Estimated: $\\lambda = 1$')\n",
    "    if i == 1:\n",
    "        plt.plot(c1_list * p, te_emp_list[i], ls = ':', c='b', label='Empirical: $\\lambda = 2$')\n",
    "        plt.plot(c1_list * p, ts, lw=0.5, c='b', label=r'Estimated: $\\lambda = 2$')\n",
    "    if i == 2:\n",
    "        plt.plot(c1_list * p, te_emp_list[i], c='g', ls = ':', label='Empirical: $\\lambda = 4$')\n",
    "        plt.plot(c1_list * p, ts, lw=0.5, c='g', label=r'Estimated: $\\lambda = 4$')\n",
    "\n",
    "plt.xlabel('Task one\\'s sample size', fontsize=14)\n",
    "plt.ylabel('Task two\\'s prediction loss', fontsize=14)\n",
    "#axes = plt.gca()\n",
    "#axes.set_xlim([1.0, 20.0])\n",
    "\n",
    "plt.yticks(np.arange(0.02, 0.06, 0.01), fontsize=14)\n",
    "plt.xticks(np.arange(800, 4800, 800), fontsize=14)\n",
    "plt.xlim([500, 4000])\n",
    "plt.ylim([0.01, 0.05])\n",
    "\n",
    "\n",
    "plt.grid(ls = ':', lw=0.8)\n",
    "plt.legend(fontsize=12)#,loc=3)\n",
    "plt.tight_layout()\n",
    "plt.savefig('covariate_shift.eps')"
   ]
  },
  {
   "cell_type": "code",
   "execution_count": 24,
   "metadata": {},
   "outputs": [
    {
     "name": "stdout",
     "output_type": "stream",
     "text": [
      "1.25 0.6732714998391376\n",
      "1.5 0.7172212207082155\n",
      "1.75 0.7521496175702846\n",
      "2.0 0.7810959764101533\n",
      "2.25 0.8034792615651551\n",
      "2.5 0.8246003354447635\n",
      "2.75 0.8427228417202154\n",
      "3.0 0.8566036327426244\n",
      "3.25 0.8694977136376484\n",
      "3.5 0.881464156568274\n",
      "3.75 0.8916759328560012\n",
      "4.0 0.9012039436227084\n",
      "4.25 0.9087220319948854\n",
      "4.5 0.9165156851576182\n",
      "4.75 0.9230811101824239\n",
      "5.0 0.9291234696795786\n",
      "5.25 0.9347517255662786\n",
      "5.5 0.9401144225725971\n",
      "5.75 0.9443826727237865\n",
      "6.0 0.9490519687223343\n",
      "6.25 0.9534135855444472\n",
      "\n",
      "1.25 0.6696428571428571\n",
      "1.5 0.7142857142857143\n",
      "1.75 0.7499999999999999\n",
      "2.0 0.7792207792207793\n",
      "2.25 0.8035714285714286\n",
      "2.5 0.8241758241758241\n",
      "2.75 0.8418367346938774\n",
      "3.0 0.8571428571428572\n",
      "3.25 0.8705357142857143\n",
      "3.5 0.8823529411764706\n",
      "3.75 0.8928571428571429\n",
      "4.0 0.9022556390977444\n",
      "4.25 0.9107142857142857\n",
      "4.5 0.9183673469387755\n",
      "4.75 0.9253246753246753\n",
      "5.0 0.9316770186335402\n",
      "5.25 0.9374999999999999\n",
      "5.5 0.942857142857143\n",
      "5.75 0.9478021978021977\n",
      "6.0 0.9523809523809524\n",
      "6.25 0.9566326530612245\n",
      "\n",
      "1.25 0.6522095325127136\n",
      "1.5 0.6835644013438512\n",
      "1.75 0.7084847122865757\n",
      "2.0 0.7306725523777301\n",
      "2.25 0.7492265241371101\n",
      "2.5 0.7658692751363726\n",
      "2.75 0.7809271817441197\n",
      "3.0 0.7935129031355284\n",
      "3.25 0.8052361709118593\n",
      "3.5 0.8153010170575891\n",
      "3.75 0.8246961411874849\n",
      "4.0 0.8342971319716825\n",
      "4.25 0.842497014738039\n",
      "4.5 0.8506529312503613\n",
      "4.75 0.8573196118353693\n",
      "5.0 0.8634750283212478\n",
      "5.25 0.8697795011613066\n",
      "5.5 0.8763728584271449\n",
      "5.75 0.8807764589074233\n",
      "6.0 0.886750847459198\n",
      "6.25 0.8912642508721528\n",
      "\n",
      "1.25 0.6508811397296305\n",
      "1.5 0.6816110503613863\n",
      "1.75 0.7070394031800085\n",
      "2.0 0.728657429270892\n",
      "2.25 0.7473975496727717\n",
      "2.5 0.7638828339034531\n",
      "2.75 0.7785515014292287\n",
      "3.0 0.7917244012064072\n",
      "3.25 0.8036441099686775\n",
      "3.5 0.8144988656974353\n",
      "3.75 0.8244379053734918\n",
      "4.0 0.8335816816265591\n",
      "4.25 0.8420288958465234\n",
      "4.5 0.8498614784234815\n",
      "4.75 0.8571482024577021\n",
      "5.0 0.8639473621922026\n",
      "5.25 0.8703087955030775\n",
      "5.5 0.8762754363207138\n",
      "5.75 0.8818845236667207\n",
      "6.0 0.887168555523363\n",
      "6.25 0.8921560501606579\n"
     ]
    }
   ],
   "source": [
    "for a, b in zip(c_1_list / c_2, te_emp_list[0] / 2.8):\n",
    "    print(a, b)\n",
    "print()\n",
    "\n",
    "for a, b in zip(c_1_list / c_2, te_list[0]  / 2.8):\n",
    "    print(a, b)\n",
    "print()\n",
    "\n",
    "for a, b in zip(c_1_list / c_2, te_emp_list[1] / 2.8):\n",
    "    print(a, b)\n",
    "\n",
    "print()\n",
    "    \n",
    "for a, b in zip(c_1_list / c_2, te_list[1] / 2.8):\n",
    "    print(a, b)"
   ]
  },
  {
   "cell_type": "code",
   "execution_count": null,
   "metadata": {},
   "outputs": [],
   "source": [
    "1.5 0.7172212207082155\n",
    "2.0 0.7810959764101533\n",
    "2.5 0.8246003354447635\n",
    "3.0 0.8566036327426244\n",
    "3.5 0.881464156568274\n",
    "4.0 0.9012039436227084\n",
    "4.5 0.9165156851576182\n",
    "5.0 0.9291234696795786\n",
    "5.5 0.9401144225725971\n",
    "6.0 0.9490519687223343\n",
    "\n",
    "1.5 0.7142857142857143\n",
    "2.0 0.7792207792207793\n",
    "2.5 0.8241758241758241\n",
    "3.0 0.8571428571428572\n",
    "3.5 0.8823529411764706\n",
    "4.0 0.9022556390977444\n",
    "4.5 0.9183673469387755\n",
    "5.0 0.9316770186335402\n",
    "5.5 0.942857142857143\n",
    "6.0 0.9523809523809524\n",
    "\n",
    "1.5 0.6835644013438512\n",
    "2.0 0.7306725523777301\n",
    "2.5 0.7658692751363726\n",
    "3.0 0.7935129031355284\n",
    "3.5 0.8153010170575891\n",
    "4.0 0.8342971319716825\n",
    "4.5 0.8506529312503613\n",
    "5.0 0.8634750283212478\n",
    "5.5 0.8763728584271449\n",
    "6.0 0.886750847459198\n",
    "\n",
    "1.5 0.6816110503613863\n",
    "2.0 0.728657429270892\n",
    "2.5 0.7638828339034531\n",
    "3.0 0.7917244012064072\n",
    "3.5 0.8144988656974353\n",
    "4.0 0.8335816816265591\n",
    "4.5 0.8498614784234815\n",
    "5.0 0.8639473621922026\n",
    "5.5 0.8762754363207138\n",
    "6.0 0.887168555523363\n"
   ]
  }
 ],
 "metadata": {
  "kernelspec": {
   "display_name": "Python 3",
   "language": "python",
   "name": "python3"
  },
  "language_info": {
   "codemirror_mode": {
    "name": "ipython",
    "version": 3
   },
   "file_extension": ".py",
   "mimetype": "text/x-python",
   "name": "python",
   "nbconvert_exporter": "python",
   "pygments_lexer": "ipython3",
   "version": "3.6.8"
  }
 },
 "nbformat": 4,
 "nbformat_minor": 2
}

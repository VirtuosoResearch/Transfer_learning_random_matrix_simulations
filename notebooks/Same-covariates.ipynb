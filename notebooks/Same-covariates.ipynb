{
 "cells": [
  {
   "cell_type": "code",
   "execution_count": 1,
   "metadata": {},
   "outputs": [],
   "source": [
    "%load_ext autoreload\n",
    "%autoreload 2\n",
    "%matplotlib inline"
   ]
  },
  {
   "cell_type": "code",
   "execution_count": 11,
   "metadata": {},
   "outputs": [
    {
     "data": {
      "text/plain": [
       "<torch._C.Generator at 0x7fc1282bf890>"
      ]
     },
     "execution_count": 11,
     "metadata": {},
     "output_type": "execute_result"
    }
   ],
   "source": [
    "import matplotlib.pyplot as plt\n",
    "import numpy as np\n",
    "import math\n",
    "from scipy.optimize import minimize_scalar\n",
    "\n",
    "from numpy.linalg import inv, norm\n",
    "import matplotlib.pyplot as plt\n",
    "import torch\n",
    "from torch import nn, optim\n",
    "from itertools import chain\n",
    "import random\n",
    "\n",
    "from TwoLayerNet import TwoLayerNet, task_to_batch, two_layer_square_loss\n",
    "\n",
    "np.random.seed(0)\n",
    "random.seed(0)\n",
    "torch.manual_seed(0)"
   ]
  },
  {
   "cell_type": "markdown",
   "metadata": {},
   "source": [
    "## Generate data"
   ]
  },
  {
   "cell_type": "code",
   "execution_count": 130,
   "metadata": {},
   "outputs": [],
   "source": [
    "# params\n",
    "p = 200\n",
    "c = 10\n",
    "n = c * p\n",
    "sigma = 0.5\n",
    "t = 10 # number of tasks\n",
    "\n",
    "# covariates\n",
    "X = np.random.randn(n, p)\n",
    "\n",
    "# models\n",
    "beta_0 = np.random.randn(p, 1) / math.sqrt(p)\n",
    "r = 1"
   ]
  },
  {
   "cell_type": "markdown",
   "metadata": {},
   "source": [
    "## Get HPS estimators"
   ]
  },
  {
   "cell_type": "code",
   "execution_count": 131,
   "metadata": {},
   "outputs": [],
   "source": [
    "#args.print_every = 20\n",
    "#args.epochs = 1000\n",
    "#args.lr = 0.02\n",
    "#two_layer_square_loss(data_train, data_test, args)\n",
    "\n",
    "def get_HPS_estimator(X, Y):\n",
    "    A_hat = Y.T @ X @ np.linalg.inv(X.T @ X) @ X.T @ Y\n",
    "    U, D, V = np.linalg.svd(A_hat)\n",
    "    U = U[:, :r]\n",
    "    BA_hat = np.linalg.inv(X.T @ X) @ X.T @ Y @ U @ U.T\n",
    "    \n",
    "    return BA_hat"
   ]
  },
  {
   "cell_type": "code",
   "execution_count": 132,
   "metadata": {},
   "outputs": [],
   "source": [
    "#print('B_star', B_star)\n",
    "\n",
    "#print('U', U)\n",
    "\n",
    "#print(BA_hat - B_star)"
   ]
  },
  {
   "cell_type": "markdown",
   "metadata": {},
   "source": [
    "## Get prediction loss"
   ]
  },
  {
   "cell_type": "code",
   "execution_count": 133,
   "metadata": {
    "scrolled": false
   },
   "outputs": [],
   "source": [
    "def get_avg_pred_loss(BA_hat):\n",
    "    err = np.linalg.norm(BA_hat - B_star, 'fro') ** 2\n",
    "    return err / t"
   ]
  },
  {
   "cell_type": "markdown",
   "metadata": {},
   "source": [
    "## Vary total sample size"
   ]
  },
  {
   "cell_type": "code",
   "execution_count": 144,
   "metadata": {},
   "outputs": [
    {
     "name": "stdout",
     "output_type": "stream",
     "text": [
      "(400, 200) (400, 10)\n",
      "(600, 200) (600, 10)\n",
      "(800, 200) (800, 10)\n",
      "(1000, 200) (1000, 10)\n",
      "(1200, 200) (1200, 10)\n",
      "(1400, 200) (1400, 10)\n",
      "(1600, 200) (1600, 10)\n",
      "(1800, 200) (1800, 10)\n",
      "(2000, 200) (2000, 10)\n"
     ]
    }
   ],
   "source": [
    "d = 0.2\n",
    "B_star = beta_0 @ np.ones((1, t)) + d * np.random.randn(p, t) / math.sqrt(p)\n",
    "Y = X @ B_star + sigma * np.random.randn(n, t)\n",
    "\n",
    "n_list = [i * p for i in range(2, c + 1)]\n",
    "emp_avg_loss_list = []\n",
    "\n",
    "stl_list = []\n",
    "\n",
    "for i in n_list:\n",
    "    X_i = X[:i, :]\n",
    "    Y_i = Y[:i, :]\n",
    "    \n",
    "    print(X_i.shape, Y_i.shape)\n",
    "    \n",
    "    stl_list.append(sigma**2 * np.trace(np.linalg.inv(X_i.T @ X_i)))\n",
    "    \n",
    "    BA_hat = get_HPS_estimator(X_i, Y_i)\n",
    "    avg_loss = get_avg_pred_loss(BA_hat)\n",
    "    emp_avg_loss_list.append(avg_loss)\n",
    "\n",
    "thm_avg_loss_list = [(1 - r / float(t)) * d**2 + (float(r) / t) * (sigma**2 * p) / (i - p) for i in n_list]"
   ]
  },
  {
   "cell_type": "code",
   "execution_count": 145,
   "metadata": {},
   "outputs": [
    {
     "name": "stdout",
     "output_type": "stream",
     "text": [
      "[400, 600, 800, 1000, 1200, 1400, 1600, 1800, 2000]\n",
      "[0.0617960123472977, 0.04927264168923495, 0.04529633894446366, 0.04259186210269621, 0.04115930823157653, 0.04018193094353069, 0.03978578363930427, 0.03944965092121796, 0.03893581763084674]\n",
      "[0.06100000000000001, 0.048500000000000015, 0.04433333333333334, 0.04225000000000001, 0.04100000000000001, 0.04016666666666668, 0.039571428571428584, 0.039125000000000014, 0.038777777777777786]\n",
      "[0.25125870658851385, 0.12514684982003432, 0.08335302508127518, 0.06248178851045614, 0.05004785357690277, 0.04170557948693311, 0.03573401379292146, 0.03117732623417423, 0.027725252072226092]\n",
      "stl 0.027777777777777776\n"
     ]
    }
   ],
   "source": [
    "print(n_list)\n",
    "print(emp_avg_loss_list)\n",
    "print(thm_avg_loss_list)\n",
    "\n",
    "print(stl_list)\n",
    "print('stl', sigma**2 * p / (n-p))\n",
    "\n",
    "d2_emp_avg_loss_list = emp_avg_loss_list\n",
    "d2_thm_avg_loss_list = thm_avg_loss_list"
   ]
  },
  {
   "cell_type": "code",
   "execution_count": 143,
   "metadata": {},
   "outputs": [],
   "source": [
    "d1_emp_avg_loss_list = emp_avg_loss_list\n",
    "d1_thm_avg_loss_list = thm_avg_loss_list"
   ]
  },
  {
   "cell_type": "code",
   "execution_count": 183,
   "metadata": {},
   "outputs": [
    {
     "name": "stderr",
     "output_type": "stream",
     "text": [
      "The PostScript backend does not support transparency; partially transparent artists will be rendered opaque.\n",
      "The PostScript backend does not support transparency; partially transparent artists will be rendered opaque.\n"
     ]
    },
    {
     "data": {
      "image/png": "[encoded data removed]",
      "text/plain": [
       "<Figure size 432x288 with 1 Axes>"
      ]
     },
     "metadata": {
      "needs_background": "light"
     },
     "output_type": "display_data"
    }
   ],
   "source": [
    "plt.figure(figsize=(6,4))\n",
    "\n",
    "plt.plot(n_list, d1_emp_avg_loss_list, ls = ':', c='r', lw=2, label=r'Empirical: $d = 0.1$')\n",
    "plt.plot(n_list, d1_thm_avg_loss_list, c='r', lw=1, label=r'Estiimated: $d = 0.1$')\n",
    "\n",
    "plt.plot(n_list, d2_emp_avg_loss_list, ls = ':', c='b', lw=2, label=r'Empirical: $d = 0.2$')\n",
    "plt.plot(n_list, d2_thm_avg_loss_list, c='b', label=r'Estimated: $d = 0.2$')\n",
    "\n",
    "plt.plot(n_list, stl_list, c='g', ls = ':',lw=2, label='Empirical: STL')\n",
    "\n",
    "plt.xticks(np.arange(400, 2400, 400), fontsize=14)\n",
    "plt.yticks(np.arange(0.02, 0.08, 0.02), fontsize=14)\n",
    "#plt.xlim([0,6])\n",
    "\n",
    "plt.ylim([0.01, 0.075])\n",
    "\n",
    "plt.xlabel('Per-task sample size', fontsize=14)\n",
    "plt.ylabel('Average prediction loss', fontsize=14)\n",
    "plt.grid(ls = ':', lw=0.8)\n",
    "plt.legend(fontsize=12)\n",
    "plt.tight_layout()\n",
    "plt.savefig('same_covariates.eps')"
   ]
  },
  {
   "cell_type": "markdown",
   "metadata": {},
   "source": [
    "## Plot the effect of source task data size"
   ]
  },
  {
   "cell_type": "code",
   "execution_count": null,
   "metadata": {},
   "outputs": [],
   "source": [
    "#1.0 - np.ndarray.flatten(np.array(cos_sim_list))"
   ]
  },
  {
   "cell_type": "code",
   "execution_count": null,
   "metadata": {},
   "outputs": [],
   "source": [
    "te_beta_t - np.array(te_mtl_list)"
   ]
  },
  {
   "cell_type": "code",
   "execution_count": null,
   "metadata": {},
   "outputs": [],
   "source": [
    "np.array(d_list)/sigma**2"
   ]
  },
  {
   "cell_type": "code",
   "execution_count": null,
   "metadata": {},
   "outputs": [],
   "source": [
    "for a, b in zip(1000* np.array(provable_pos[0])/sigma**2, te_beta_t - np.array(provable_pos[1])):\n",
    "    print(a, b)\n",
    "print()\n",
    "\n",
    "for a, b in zip(x_thy_neg, y_thy_neg):\n",
    "    print(a, b)\n",
    "print()\n",
    "\n",
    "for a, b in zip(1000* np.array(unknown[0])/sigma**2, te_beta_t - np.array(unknown[1])):\n",
    "    print(a, b)"
   ]
  },
  {
   "cell_type": "code",
   "execution_count": null,
   "metadata": {},
   "outputs": [],
   "source": [
    "thy_neg = 1000* np.array(provable_neg[0])/sigma**2\n",
    "print(thy_neg[:8])"
   ]
  },
  {
   "cell_type": "code",
   "execution_count": null,
   "metadata": {},
   "outputs": [],
   "source": [
    "print(B_star)"
   ]
  },
  {
   "cell_type": "code",
   "execution_count": null,
   "metadata": {},
   "outputs": [],
   "source": []
  }
 ],
 "metadata": {
  "kernelspec": {
   "display_name": "Python 3",
   "language": "python",
   "name": "python3"
  },
  "language_info": {
   "codemirror_mode": {
    "name": "ipython",
    "version": 3
   },
   "file_extension": ".py",
   "mimetype": "text/x-python",
   "name": "python",
   "nbconvert_exporter": "python",
   "pygments_lexer": "ipython3",
   "version": "3.6.8"
  }
 },
 "nbformat": 4,
 "nbformat_minor": 2
}

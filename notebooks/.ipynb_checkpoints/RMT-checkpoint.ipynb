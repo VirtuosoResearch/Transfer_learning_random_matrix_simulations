{
 "cells": [
  {
   "cell_type": "code",
   "execution_count": 1,
   "metadata": {},
   "outputs": [],
   "source": [
    "%load_ext autoreload\n",
    "%autoreload 2\n",
    "%matplotlib inline"
   ]
  },
  {
   "cell_type": "code",
   "execution_count": 2,
   "metadata": {},
   "outputs": [],
   "source": [
    "import matplotlib.pyplot as plt\n",
    "import numpy as np\n",
    "import math\n",
    "from scipy.optimize import minimize_scalar\n",
    "\n",
    "np.random.seed(10)"
   ]
  },
  {
   "cell_type": "code",
   "execution_count": 27,
   "metadata": {},
   "outputs": [],
   "source": [
    "# params\n",
    "p = 200\n",
    "c1 = 20\n",
    "c2 = 100\n",
    "n1 = c1 * p\n",
    "n2 = c2 * p\n",
    "\n",
    "# covariates\n",
    "\n",
    "X1 = np.random.randn(n1, p)\n",
    "\n",
    "X2 = np.random.randn(n2, p)\n"
   ]
  },
  {
   "cell_type": "code",
   "execution_count": 28,
   "metadata": {},
   "outputs": [],
   "source": [
    "# identity\n",
    "\n",
    "def test_1():\n",
    "    A = np.linalg.inv(X1.T @ X1 + X2.T @ X2)\n",
    "    B = A @ A @ X1.T @ X1 @ X1.T @ X1\n",
    "    return np.trace(B) / p\n",
    "\n",
    "def test_2():\n",
    "    A = np.linalg.inv(X1.T @ X1 + X2.T @ X2)\n",
    "    B = A @ A @ X1.T @ X1 @ X2.T @ X2\n",
    "    return np.trace(B) / p\n",
    "\n",
    "def test_3():\n",
    "    A = np.linalg.inv(X1.T @ X1 + X2.T @ X2)\n",
    "    B = A @ A @ X2.T @ X2 @ X2.T @ X2\n",
    "    return np.trace(B) / p"
   ]
  },
  {
   "cell_type": "code",
   "execution_count": 29,
   "metadata": {},
   "outputs": [],
   "source": [
    "def fa(c1, c2):\n",
    "    c2 = float(c2)\n",
    "    c1 = float(c1)\n",
    "    \n",
    "    a = c2 * (1 / c1 + 1/ c2 - 1 / (c1 * c2)) / c1\n",
    "    return a\n",
    "\n",
    "def fb(c1, c2):\n",
    "    c1 = float(c1)\n",
    "    c2 = float(c2)\n",
    "    \n",
    "    b = c2 * (1 - 1/ c2) / c1 + 1 - 1 / c1\n",
    "    return b\n",
    "\n",
    "def f(c1, c2):\n",
    "    a = fa(c1, c2)\n",
    "    b = fb(c1, c2)\n",
    "    \n",
    "    x = (-b + math.sqrt(b**2 + 4* a)) / (2 * a)\n",
    "    y = 1.0 / (1.0 / x**2 - 1.0 / (c1 * (1 + x / c1)**2))\n",
    "    \n",
    "    w = c2 / (c1 * (1 + x / c1))\n",
    "    \n",
    "    result = (1 - 2 * w * x + w**2 * y) / (1 - w**2 * y / c2)\n",
    "    return result"
   ]
  },
  {
   "cell_type": "code",
   "execution_count": 30,
   "metadata": {},
   "outputs": [
    {
     "name": "stdout",
     "output_type": "stream",
     "text": [
      "0.44565274224481854\n",
      "0.4451876625789664\n"
     ]
    }
   ],
   "source": [
    "print( test_1() )\n",
    "\n",
    "print( f(c1, c2) )\n",
    "\n",
    "#print( test_3() )\n"
   ]
  },
  {
   "cell_type": "code",
   "execution_count": 32,
   "metadata": {},
   "outputs": [
    {
     "name": "stdout",
     "output_type": "stream",
     "text": [
      "0.4489186839544753\n"
     ]
    }
   ],
   "source": [
    "print( c1 **2 * (c1 + c2) / (c1 + c2 - 1)**3 )\n",
    "\n",
    "# print( (p - p * c1 **2 * (c1 + c2) / (c1 + c2 - 1)**3 - p * c2 **2 * (c1 + c2) / (c1 + c2 - 1)**3) / 2 )\n",
    "\n",
    "# print( p * c2 **2 * (c1 + c2) / (c1 + c2 - 1)**3 )\n"
   ]
  },
  {
   "cell_type": "code",
   "execution_count": 15,
   "metadata": {},
   "outputs": [
    {
     "name": "stdout",
     "output_type": "stream",
     "text": [
      "-0.8403625625530915\n"
     ]
    }
   ],
   "source": [
    "print( test_1() - p * c1 **2 * (c1 + c2) / (c1 + c2 - 1)**3 )\n"
   ]
  },
  {
   "cell_type": "code",
   "execution_count": 16,
   "metadata": {},
   "outputs": [
    {
     "data": {
      "text/plain": [
       "-0.8403625625530915"
      ]
     },
     "execution_count": 16,
     "metadata": {},
     "output_type": "execute_result"
    }
   ],
   "source": [
    "test_1() - p * c1 **2 * (c1 + c2) / (c1 + c2 - 1)**3"
   ]
  },
  {
   "cell_type": "code",
   "execution_count": 17,
   "metadata": {},
   "outputs": [
    {
     "data": {
      "text/plain": [
       "0.009022670407158246"
      ]
     },
     "execution_count": 17,
     "metadata": {},
     "output_type": "execute_result"
    }
   ],
   "source": [
    "f(c1, c2)"
   ]
  },
  {
   "cell_type": "code",
   "execution_count": null,
   "metadata": {},
   "outputs": [],
   "source": []
  }
 ],
 "metadata": {
  "kernelspec": {
   "display_name": "Python 3",
   "language": "python",
   "name": "python3"
  },
  "language_info": {
   "codemirror_mode": {
    "name": "ipython",
    "version": 3
   },
   "file_extension": ".py",
   "mimetype": "text/x-python",
   "name": "python",
   "nbconvert_exporter": "python",
   "pygments_lexer": "ipython3",
   "version": "3.6.8"
  }
 },
 "nbformat": 4,
 "nbformat_minor": 2
}

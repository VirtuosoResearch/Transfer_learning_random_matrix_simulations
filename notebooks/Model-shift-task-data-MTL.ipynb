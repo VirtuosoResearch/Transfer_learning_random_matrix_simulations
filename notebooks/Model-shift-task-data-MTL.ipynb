{
 "cells": [
  {
   "cell_type": "code",
   "execution_count": 1,
   "metadata": {},
   "outputs": [],
   "source": [
    "%load_ext autoreload\n",
    "%autoreload 2\n",
    "%matplotlib inline"
   ]
  },
  {
   "cell_type": "code",
   "execution_count": 2,
   "metadata": {},
   "outputs": [],
   "source": [
    "import matplotlib.pyplot as plt\n",
    "import numpy as np\n",
    "import math\n",
    "\n",
    "np.random.seed(0)"
   ]
  },
  {
   "cell_type": "markdown",
   "metadata": {},
   "source": [
    "## Generate data, Estimators"
   ]
  },
  {
   "cell_type": "code",
   "execution_count": 3,
   "metadata": {
    "scrolled": false
   },
   "outputs": [
    {
     "name": "stdout",
     "output_type": "stream",
     "text": [
      "Signal-to-noise ratio 0.5 Distance 0.016900000000000002\n"
     ]
    }
   ],
   "source": [
    "# params\n",
    "p = 200\n",
    "c2 = 30\n",
    "n2 = c2 * p\n",
    "sigma = 10.0\n",
    "\n",
    "# covariates\n",
    "X2 = np.random.randn(n2, p)\n",
    "\n",
    "# models\n",
    "beta_t = np.random.randn(p, 1)\n",
    "d = 0.13\n",
    "beta_s = beta_t + d * np.random.randn(p, 1)\n",
    "\n",
    "# labels\n",
    "Y2 = X2 @ beta_t + sigma * np.random.randn(n2, 1)\n",
    "hat_beta_t = np.linalg.inv(X2.T @ X2) @ X2.T @ Y2\n",
    "\n",
    "# test data\n",
    "#test_n2 = n2 * c2 * 5\n",
    "#test_X2 = np.random.randn(test_n2, p)\n",
    "#test_Y2 = test_X2 @ beta_t\n",
    "\n",
    "#te_beta_t = np.linalg.norm(test_X2 @ hat_beta_t - test_Y2) ** 2 / test_n2\n",
    "\n",
    "def te_target(X2, sigma, X1 = np.zeros((p, p)), beta_diff = beta_s - beta_t, Sigma2_sqrt = np.eye(p)):\n",
    "    K = np.linalg.inv(X1.T @ X1 + X2.T @ X2)\n",
    "    var = sigma**2 * np.trace(K @ Sigma2_sqrt @ Sigma2_sqrt)\n",
    "    model_shift_bias = np.linalg.norm(Sigma2_sqrt @ K @ X1.T @ X1 @ beta_diff) **2\n",
    "    return model_shift_bias + var\n",
    "\n",
    "te_beta_t = te_target(X2, sigma)\n",
    "\n",
    "print('Signal-to-noise ratio', sigma**2 / p, 'Distance', d**2)"
   ]
  },
  {
   "cell_type": "markdown",
   "metadata": {},
   "source": [
    "## Test errors and transfer"
   ]
  },
  {
   "cell_type": "code",
   "execution_count": 4,
   "metadata": {
    "scrolled": false
   },
   "outputs": [
    {
     "name": "stdout",
     "output_type": "stream",
     "text": [
      "100\n",
      "Test error: STL 3.451744277368192 MTL 2.3238528908180096\n",
      "Positive transfer\n",
      "2.6730820636193533 2.0468731148293955 1.3059344246856999\n",
      "0.6561 1.4641000000000004\n",
      "400\n",
      "Test error: STL 3.451744277368192 MTL 2.5006725089267374\n",
      "Positive transfer\n",
      "3.2151756289687325 2.945325259374846 1.0916198877305534\n",
      "0.8145062499999999 1.2155062500000002\n"
     ]
    }
   ],
   "source": [
    "def test_errors_and_transfer(c1):\n",
    "    print(c1)\n",
    "    n1 = c1 * p\n",
    "    X1 = np.random.randn(n1, p)\n",
    "    Y1 = X1 @ beta_s + sigma * np.random.randn(n1, 1)\n",
    "\n",
    "    #hat_beta_st = np.linalg.inv(X1.T @ X1 + X2.T @ X2) @ (X1.T @ Y1 + X2.T @ Y2)\n",
    "\n",
    "    te_beta_st = te_target(X2, sigma, X1)\n",
    "\n",
    "    print('Test error:', 'STL', te_beta_t, 'MTL', te_beta_st)\n",
    "    if te_beta_st < te_beta_t:\n",
    "        print('Positive transfer')\n",
    "\n",
    "    delta_beta = p * d**2 * c1**2 * (c1 + c2) / (c1 + c2 - 1)**3\n",
    "    delta_var = sigma**2 * c1 / ((c2 - 1) * (c1 + c2 - 1))\n",
    "    deviation_ub = (1 + math.sqrt(1/c1))**4\n",
    "    deviation_lb = (1 - math.sqrt(1/c1))**4\n",
    "\n",
    "    print(delta_var, delta_beta, delta_var / delta_beta)\n",
    "\n",
    "    if delta_var / delta_beta >= deviation_ub:\n",
    "        print('Provably positive')\n",
    "    elif delta_var / delta_beta <= deviation_lb:\n",
    "        print('Provably negative')\n",
    "\n",
    "    print(deviation_lb, deviation_ub)\n",
    "\n",
    "test_errors_and_transfer(100)\n",
    "test_errors_and_transfer(400)"
   ]
  },
  {
   "cell_type": "markdown",
   "metadata": {},
   "source": [
    "## Plot the effect of source task data size"
   ]
  },
  {
   "cell_type": "code",
   "execution_count": 5,
   "metadata": {},
   "outputs": [
    {
     "name": "stdout",
     "output_type": "stream",
     "text": [
      "1.5917669863293207\n",
      "1.4284256857201154\n",
      "1.3376899650109197\n",
      "1.2799534682823803\n",
      "1.239984383092932\n",
      "1.2106750700915156\n",
      "1.1882628995283073\n",
      "1.1705696230336744\n",
      "1.156246862480284\n",
      "1.144415275293623\n",
      "1.134476928906637\n",
      "1.126011068539804\n",
      "1.1187130177514792\n",
      "1.1123567315968121\n"
     ]
    }
   ],
   "source": [
    "c1_list = [30 + 20 * i for i in range(1, 15)]\n",
    "te_mtl_list = []\n",
    "delta_beta_list = []\n",
    "\n",
    "provable_pos = [[], []]\n",
    "provable_neg = [[], []]\n",
    "unknown = [[], []]\n",
    "\n",
    "for c1 in c1_list:\n",
    "    X1 = np.random.randn(c1 * p, p)\n",
    "    te_beta_st = te_target(X2, sigma, X1)\n",
    "    te_mtl_list.append(te_beta_st)\n",
    "    \n",
    "    # determine if our result applies\n",
    "    delta_beta = d**2 * p * c1**2 * (c1 + c2) / (c1 + c2 - 1)**3\n",
    "    delta_var = sigma**2 * c1 / ((c2 - 1) * (c1 + c2 - 1))\n",
    "    deviation_ub = (1 + math.sqrt(1/c1))**4\n",
    "    deviation_lb = (1 - math.sqrt(1/c1))**4\n",
    "    \n",
    "    print(delta_var / delta_beta)\n",
    "    \n",
    "    if delta_var / delta_beta > deviation_ub:\n",
    "        provable_pos[0].append(c1)\n",
    "        provable_pos[1].append(te_beta_st)\n",
    "    elif delta_var / delta_beta < deviation_lb:    \n",
    "        provable_neg[0].append(c1)\n",
    "        provable_neg[1].append(te_beta_st)\n",
    "    else:\n",
    "        unknown[0].append(c1)\n",
    "        unknown[1].append(te_beta_st)\n",
    "\n",
    "    #delta_beta_base = p * c1**2 * (c1 + c2) / (c1 + c2 - 1)**3\n",
    "    #delta_beta = d**2 * delta_beta_base\n",
    "    #delta_beta_list.append(delta_beta)"
   ]
  },
  {
   "cell_type": "code",
   "execution_count": 6,
   "metadata": {
    "scrolled": true
   },
   "outputs": [
    {
     "name": "stderr",
     "output_type": "stream",
     "text": [
      "The PostScript backend does not support transparency; partially transparent artists will be rendered opaque.\n",
      "The PostScript backend does not support transparency; partially transparent artists will be rendered opaque.\n"
     ]
    },
    {
     "data": {
      "image/png": "[encoded data removed]",
      "text/plain": [
       "<Figure size 432x252 with 1 Axes>"
      ]
     },
     "metadata": {
      "needs_background": "light"
     },
     "output_type": "display_data"
    }
   ],
   "source": [
    "plt.figure(figsize=(6,3.5))\n",
    "\n",
    "plt.scatter(provable_pos[0], provable_pos[1], marker='+', s=100, lw=4, c='r', label='Positive transfer: our result')\n",
    "plt.scatter(provable_neg[0], provable_neg[1], marker='_', s=100, lw=4, c='r', label='Negative transfer: our result')\n",
    "plt.scatter(unknown[0], unknown[1], marker='o', s=20, lw=4, c='y')\n",
    "plt.plot(c1_list, te_mtl_list, c='k', lw=2, label='Multi-task learning')\n",
    "plt.plot(c1_list, [te_beta_t] * len(c1_list), lw=2.5, c='k', ls='dotted', label='Single-task learning')\n",
    "#plt.plot(c1_list, delta_beta_list, label='Delta beta')\n",
    "\n",
    "plt.xlabel(r'Number of source task data points $n_1 = c_1 p$', fontsize=12)\n",
    "plt.ylabel('Test error on the target task', fontsize=12)\n",
    "plt.grid(0.4)\n",
    "plt.legend(fontsize=12)\n",
    "plt.tight_layout()\n",
    "plt.savefig('model_shift_n1_phase_transition.eps')"
   ]
  },
  {
   "cell_type": "markdown",
   "metadata": {},
   "source": []
  }
 ],
 "metadata": {
  "kernelspec": {
   "display_name": "Python 3",
   "language": "python",
   "name": "python3"
  },
  "language_info": {
   "codemirror_mode": {
    "name": "ipython",
    "version": 3
   },
   "file_extension": ".py",
   "mimetype": "text/x-python",
   "name": "python",
   "nbconvert_exporter": "python",
   "pygments_lexer": "ipython3",
   "version": "3.6.8"
  }
 },
 "nbformat": 4,
 "nbformat_minor": 2
}

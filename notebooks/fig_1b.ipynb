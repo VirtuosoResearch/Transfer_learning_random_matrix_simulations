{
 "cells": [
  {
   "cell_type": "code",
   "execution_count": 1,
   "metadata": {},
   "outputs": [],
   "source": [
    "%load_ext autoreload\n",
    "%autoreload 2\n",
    "%matplotlib inline"
   ]
  },
  {
   "cell_type": "code",
   "execution_count": 2,
   "metadata": {},
   "outputs": [],
   "source": [
    "import matplotlib.pyplot as plt\n",
    "import numpy as np\n",
    "import math\n",
    "from scipy.optimize import minimize_scalar\n",
    "\n",
    "np.random.seed(0)"
   ]
  },
  {
   "cell_type": "markdown",
   "metadata": {},
   "source": [
    "## Generate data, Estimators"
   ]
  },
  {
   "cell_type": "code",
   "execution_count": 3,
   "metadata": {},
   "outputs": [],
   "source": [
    "# params\n",
    "p = 200\n",
    "c1 = 90\n",
    "c2 = 400\n",
    "n1 = c1 * p\n",
    "n2 = c2 * p\n",
    "sigma = 4\n",
    "\n",
    "# covariates\n",
    "X2 = np.random.randn(n2, p)\n",
    "\n",
    "# models\n",
    "beta_t = np.random.randn(p, 1)\n",
    "\n",
    "# labels\n",
    "Y2 = X2 @ beta_t + sigma * np.random.randn(n2, 1)\n",
    "hat_beta_t = np.linalg.inv(X2.T @ X2) @ X2.T @ Y2\n",
    "\n",
    "def te_target(X1, X2, beta_s, beta_t, w, sigma_2 = sigma, Sigma2_sqrt = np.eye(p)):\n",
    "    K = np.linalg.inv(w**2 * X1.T @ X1 + X2.T @ X2)\n",
    "    beta_diff = beta_s - w * beta_t\n",
    "    \n",
    "    var = sigma_2**2 * np.trace(K @ Sigma2_sqrt @ Sigma2_sqrt)\n",
    "    model_shift_bias = w**2 * np.linalg.norm(Sigma2_sqrt @ K @ X1.T @ X1 @ beta_diff) **2\n",
    "    return model_shift_bias + var\n",
    "\n",
    "def mtl_target(X1, X2, beta_s, beta_t, w, n1, n2, Sigma_1_sqrt = np.eye(p), Sigma_2_sqrt = np.eye(p)):\n",
    "    K = np.linalg.inv(w**2 * X1.T @ X1 + X2.T @ X2)\n",
    "    beta_diff = beta_s - w * beta_t\n",
    "    \n",
    "    var = sigma**2 * (n1 + n2) * np.trace(K)\n",
    "    model_shift_bias = n1 * (np.linalg.norm(K @ X2.T @ X2 @ beta_diff) ** 2)\n",
    "    model_shift_bias += n2 * w**2 * (np.linalg.norm(K @ X1.T @ X1 @ beta_diff) ** 2)\n",
    "    return (model_shift_bias + var) / (n1 + n2)"
   ]
  },
  {
   "cell_type": "markdown",
   "metadata": {},
   "source": [
    "## Find optimal w"
   ]
  },
  {
   "cell_type": "code",
   "execution_count": 4,
   "metadata": {},
   "outputs": [],
   "source": [
    "def opt_w_val(X1, X2, beta_s, beta_t, n1, n2, c = 1, lb = 0.0, ub = 5.0, num = 10):\n",
    "    def f_val(w):\n",
    "        return mtl_target(X1, X2, beta_s, beta_t, w, n1, n2)\n",
    "    \n",
    "    gap = ub / num\n",
    "    x_list = []\n",
    "    fun_list = []\n",
    "    for u in range(0, num):\n",
    "        res = minimize_scalar(f_val, bounds=(gap* u, gap* (u+1)), method='bounded')\n",
    "        x_list.append(res.x)\n",
    "        fun_list.append(res.fun)\n",
    "    \n",
    "    plt.figure(c)\n",
    "    plt.plot(x_list, fun_list)\n",
    "    \n",
    "    return x_list[np.argmin(fun_list)]\n",
    "\n",
    "def opt_w(X1, X2, beta_s, beta_t, c = 1, lb = 0.0, ub = 5.0, num = 10):\n",
    "    def f(w):\n",
    "        return te_target(X1, X2, beta_s, beta_t, w)\n",
    "\n",
    "    gap = ub / num\n",
    "    x_list = []\n",
    "    fun_list = []\n",
    "    for u in range(0, num):\n",
    "        res = minimize_scalar(f, bounds=(gap* u, gap* (u+1)), method='bounded')\n",
    "        x_list.append(res.x)\n",
    "        fun_list.append(res.fun)\n",
    "        \n",
    "    plt.figure(c)\n",
    "    plt.plot(x_list, fun_list)\n",
    "        \n",
    "    return x_list[np.argmin(fun_list)]"
   ]
  },
  {
   "cell_type": "code",
   "execution_count": 5,
   "metadata": {},
   "outputs": [],
   "source": [
    "#sigma = 4\n",
    "#c2 = 500\n",
    "#print(sigma, c2)\n",
    "\n",
    "#d = 0.02\n",
    "#threshold_ex = sigma**2 / (p * d**2 - sigma**2 / c2)\n",
    "\n",
    "#print('is negative when c1 is large', c2 > threshold_ex)\n",
    "\n",
    "#print(threshold_ex)\n",
    "#c1 = 200\n",
    "#lb = sigma**2 / (p * d**2 * (1 + 1.0 / math.sqrt(c1))**4 - sigma**2 / c2)\n",
    "#print(lb)\n",
    "\n",
    "#c1 = 500\n",
    "#ub = sigma**2 / (p * d**2 * (1 - 1.0 / math.sqrt(c1))**4 - sigma**2 / c2)\n",
    "#print(ub)"
   ]
  },
  {
   "cell_type": "markdown",
   "metadata": {},
   "source": [
    "## Test errors and transfer"
   ]
  },
  {
   "cell_type": "code",
   "execution_count": 6,
   "metadata": {
    "scrolled": false
   },
   "outputs": [],
   "source": [
    "def test_errors_and_transfer(c1, d):\n",
    "    beta_s = beta_t + d * np.random.randn(p, 1)\n",
    "    n1 = c1 * p\n",
    "    X1 = np.random.randn(n1, p)\n",
    "    Y1 = X1 @ beta_s + sigma * np.random.randn(n1, 1)\n",
    "\n",
    "    te_beta_t = te_target(X1, X2, beta_t, beta_t, 0)\n",
    "\n",
    "    w_hat = opt_w_val(X1, X2, beta_s, beta_t, n1, n2)\n",
    "    te_beta_st = te_target(X1, X2, beta_s, beta_t, w_hat)\n",
    "    print('Test error:', 'STL', te_beta_t, 'MTL', te_beta_st, 'OPT_W', w_hat)\n",
    "\n",
    "    if te_beta_st < te_beta_t:\n",
    "        print('Positive transfer')\n",
    "    else:\n",
    "        print('Negative transfer')\n",
    "        \n",
    "    delta_beta = p * ((1 - w_hat)**2 + d**2) * c1**2 * (c1 + c2) / (c1 + c2 - 1)**3\n",
    "    delta_var = sigma**2 * c1 / ((c2 - 1) * (c1 + c2 - 1))\n",
    "    deviation_ub = (1 + math.sqrt(1/c1))**4\n",
    "    deviation_lb = (1 - math.sqrt(1/c1))**4\n",
    "\n",
    "    print(delta_var, delta_beta, delta_var / delta_beta)\n",
    "\n",
    "    if delta_var / delta_beta >= deviation_ub:\n",
    "        print('Provably positive')\n",
    "    elif delta_var / delta_beta <= deviation_lb:\n",
    "        print('Provably negative')\n",
    "\n",
    "    print(deviation_lb, deviation_ub)\n",
    "\n",
    "#d = 0.02\n",
    "#c1 = 50\n",
    "#test_errors_and_transfer(c1, d)\n",
    "\n",
    "#c1 = 500\n",
    "#test_errors_and_transfer(c1, d)"
   ]
  },
  {
   "cell_type": "markdown",
   "metadata": {},
   "source": [
    "## Plot the effect of task distance"
   ]
  },
  {
   "cell_type": "code",
   "execution_count": 7,
   "metadata": {
    "scrolled": false
   },
   "outputs": [
    {
     "data": {
      "image/png": "[encoded data removed]",
      "text/plain": [
       "<Figure size 432x288 with 1 Axes>"
      ]
     },
     "metadata": {
      "needs_background": "light"
     },
     "output_type": "display_data"
    }
   ],
   "source": [
    "d = 0.02\n",
    "c1_list = [50 * i for i in range(1, 17)]\n",
    "te_mtl_list = []\n",
    "\n",
    "provable_pos = [[], []]\n",
    "provable_neg = [[], []]\n",
    "unknown = [[], []]\n",
    "\n",
    "beta_s = beta_t + d * np.random.randn(p, 1)\n",
    "\n",
    "for c1 in c1_list:\n",
    "    n1 = c1 * p\n",
    "    X1 = np.random.randn(n1, p)\n",
    "    Y1 = X1 @ beta_s + sigma * np.random.randn(n1, 1)\n",
    "\n",
    "    #hat_beta_st = np.linalg.inv(X1.T @ X1 + X2.T @ X2) @ (X1.T @ Y1 + X2.T @ Y2)\n",
    "    hat_w = opt_w_val(X1, X2, beta_s, beta_t, n1, n2)\n",
    "    te_beta_st = te_target(X1, X2, beta_s, beta_t, hat_w)\n",
    "    \n",
    "    #te_beta_st = np.linalg.norm(test_X2 @ hat_beta_st - test_Y2) ** 2 / test_n2\n",
    "    te_mtl_list.append(te_beta_st)\n",
    "\n",
    "    delta_beta_base = p * c1**2 * (c1 + c2) / (c1 + c2 - 1)**3\n",
    "    delta_beta = ((1 - hat_w)**2 + d**2) * delta_beta_base\n",
    "    delta_var = sigma**2 * c1 / ((c2 - 1) * (c1 + c2 - 1))\n",
    "    deviation_ub = (1 + math.sqrt(1/c1))**4\n",
    "    deviation_lb = (1 - math.sqrt(1/c1))**4\n",
    "\n",
    "    if delta_var / delta_beta > deviation_ub:\n",
    "        provable_pos[0].append(c1)\n",
    "        provable_pos[1].append(te_beta_st)\n",
    "    elif delta_var / delta_beta < deviation_lb:    \n",
    "        provable_neg[0].append(c1)\n",
    "        provable_neg[1].append(te_beta_st)\n",
    "    else:\n",
    "        unknown[0].append(c1)\n",
    "        unknown[1].append(te_beta_st)"
   ]
  },
  {
   "cell_type": "code",
   "execution_count": 8,
   "metadata": {},
   "outputs": [
    {
     "name": "stdout",
     "output_type": "stream",
     "text": [
      "[50, 100, 150, 200, 250, 300, 350, 400, 450, 500, 550, 600, 650, 700, 750, 800]\n",
      "[0.03664508426381106, 0.03529525763371753, 0.035161990189978155, 0.035508234404475154, 0.03658095487231149, 0.0374418590525242, 0.03870622016541722, 0.040160041741410565, 0.04122852779419975, 0.042120684054500694, 0.043527202771201076, 0.04474004219195435, 0.04581506298641596, 0.04683599409008909, 0.04768867159901361, 0.048831365891372845]\n",
      "[0.03662901 0.03528341 0.03512689 0.03564467 0.03654242 0.03764687\n",
      " 0.03885391 0.04010022 0.04134717 0.0425714  0.04375911 0.04490259\n",
      " 0.04599798 0.0470439  0.04804054 0.04898905]\n",
      "[ 1.60723328e-05  1.18523204e-05  3.51037877e-05 -1.36432798e-04\n",
      "  3.85341272e-05 -2.05015246e-04 -1.47692951e-04  5.98225609e-05\n",
      " -1.18641913e-04 -4.50714572e-04 -2.31909785e-04 -1.62546912e-04\n",
      " -1.82915172e-04 -2.07905352e-04 -3.51865024e-04 -1.57680619e-04]\n"
     ]
    }
   ],
   "source": [
    "print(c1_list)\n",
    "estimate_list = [p*d**2 * c1**2 * (c1 + c2) / (c1 + c2 - 1)**3 + sigma**2 / (c1 + c2 - 1) for c1 in c1_list]\n",
    "\n",
    "print(te_mtl_list)\n",
    "print(np.array(estimate_list))\n",
    "\n",
    "print(np.array(te_mtl_list) - np.array(estimate_list))\n"
   ]
  },
  {
   "cell_type": "code",
   "execution_count": null,
   "metadata": {},
   "outputs": [],
   "source": []
  },
  {
   "cell_type": "code",
   "execution_count": 23,
   "metadata": {},
   "outputs": [
    {
     "name": "stderr",
     "output_type": "stream",
     "text": [
      "The PostScript backend does not support transparency; partially transparent artists will be rendered opaque.\n",
      "The PostScript backend does not support transparency; partially transparent artists will be rendered opaque.\n"
     ]
    },
    {
     "data": {
      "image/png": "[encoded data removed]",
      "text/plain": [
       "<Figure size 432x288 with 1 Axes>"
      ]
     },
     "metadata": {
      "needs_background": "light"
     },
     "output_type": "display_data"
    }
   ],
   "source": [
    "te_beta_t = te_target(X1, X2, beta_s, beta_t, 0)\n",
    "\n",
    "plt.figure(figsize=(6,4))\n",
    "\n",
    "cut = 4\n",
    "\n",
    "x_thy = np.array(provable_neg[0]) / c2\n",
    "y_thy = 100*(te_beta_t-np.array(provable_neg[1]) )\n",
    "x_thy = x_thy[: len(x_thy) - cut]\n",
    "y_thy = y_thy[: len(y_thy) - cut]\n",
    "x_emp = np.array(c1_list) / c2\n",
    "y_emp = 100*(te_beta_t-np.array(te_mtl_list) )\n",
    "x_emp = x_emp[: len(x_emp) - cut]\n",
    "y_emp = y_emp[: len(y_emp) - cut]\n",
    "\n",
    "\n",
    "plt.plot(np.array(c1_list) / c2, te_mtl_list, ls = ':', c='r', label='Empirical loss')\n",
    "plt.plot(np.array(c1_list) / c2, estimate_list, c='r', lw=1, label='Estiimated loss')\n",
    "\n",
    "\n",
    "#plt.scatter(np.array(provable_pos[0]) / c2, 1.5* 100*(te_beta_t-np.array(provable_pos[1]) ), marker='+', s=300, lw=4, c='r', label='Predicted positive')\n",
    "#plt.scatter(x_thy, 1.5 * y_thy, marker='_', s=300, lw=4, c='orange', label='Predicted negative')\n",
    "#plt.scatter(np.array(unknown[0]) / c2, 1.5 * 100*(te_beta_t-np.array(unknown[1]) ), marker='o', s=20, lw=4, c='y')\n",
    "#plt.plot(x_emp, 1.5 * y_emp, c='k', lw=3, ls=':', label='Empirical curve')\n",
    "\n",
    "#plt.plot(np.arange(0,900,50), [te_beta_t] * 18, lw=3, c='k', ls='dotted', label='Single-task learning')\n",
    "\n",
    "plt.xlabel(r'Sample ratio $n_1 / n_2$', fontsize=14)\n",
    "plt.ylabel('Task two\\'s prediction loss', fontsize=14)\n",
    "\n",
    "plt.xticks(np.arange(0.1, 0.9, 0.2), fontsize=14)\n",
    "plt.yticks(np.arange(0.035, 0.041, 0.002), fontsize=14)\n",
    "plt.xlim([0.1, 0.7])\n",
    "plt.ylim([0.035, 0.039])\n",
    "\n",
    "plt.grid(ls = ':', lw=0.8)\n",
    "plt.legend(fontsize=12)\n",
    "\n",
    "plt.tight_layout()\n",
    "plt.savefig('sample_ratio.eps')"
   ]
  },
  {
   "cell_type": "markdown",
   "metadata": {},
   "source": [
    "## Plot the effect of source task data size"
   ]
  },
  {
   "cell_type": "code",
   "execution_count": 10,
   "metadata": {},
   "outputs": [
    {
     "data": {
      "text/plain": [
       "0.125"
      ]
     },
     "execution_count": 10,
     "metadata": {},
     "output_type": "execute_result"
    }
   ],
   "source": [
    "50.0 / c2"
   ]
  },
  {
   "cell_type": "code",
   "execution_count": 11,
   "metadata": {},
   "outputs": [
    {
     "name": "stdout",
     "output_type": "stream",
     "text": [
      "2.495\n"
     ]
    }
   ],
   "source": [
    "d = 0.02\n",
    "sigma = 4\n",
    "p = 200\n",
    "c1 = 50\n",
    "c2 = 500\n",
    "\n",
    "print(d**2 / (sigma**2 / (p * (c2 - 1))))"
   ]
  },
  {
   "cell_type": "code",
   "execution_count": 12,
   "metadata": {},
   "outputs": [
    {
     "data": {
      "text/plain": [
       "array([ 3.47053948e-03,  4.82036611e-03,  4.95363355e-03,  4.60738934e-03,\n",
       "        3.53466887e-03,  2.67376469e-03,  1.40940358e-03, -4.44179978e-05,\n",
       "       -1.11290405e-03, -2.00506031e-03, -3.41157903e-03, -4.62441845e-03,\n",
       "       -5.69943924e-03, -6.72037035e-03, -7.57304786e-03, -8.71574215e-03])"
      ]
     },
     "execution_count": 12,
     "metadata": {},
     "output_type": "execute_result"
    }
   ],
   "source": [
    "te_beta_t-np.array(te_mtl_list)"
   ]
  },
  {
   "cell_type": "code",
   "execution_count": 13,
   "metadata": {},
   "outputs": [
    {
     "name": "stdout",
     "output_type": "stream",
     "text": [
      "0.1 0.5205809219677914\n",
      "0.2 0.72305491648182\n",
      "0.3 0.7430450330427267\n",
      "0.4 0.6911084008681768\n",
      "0.5 0.5302003306927261\n",
      "\n",
      "1.5 -0.6936627672537024\n",
      "\n",
      "0.6 0.4010647036608198\n",
      "0.7 0.21141053672686683\n",
      "0.8 -0.0066626996721348\n",
      "0.9 -0.1669356075905123\n",
      "1.0 -0.3007590466356541\n",
      "1.1 -0.5117368541407115\n"
     ]
    }
   ],
   "source": [
    "for a, b in zip(np.array(provable_pos[0]) / c2, 1.5* 100*(te_beta_t-np.array(provable_pos[1]) )):\n",
    "    print(a, b)\n",
    "print()\n",
    "\n",
    "for a, b in zip(x_thy, 1.5* y_thy):\n",
    "    print(a, b)\n",
    "print()\n",
    "\n",
    "for a, b in zip(np.array(unknown[0]) / c2, 1.5* 100*(te_beta_t-np.array(unknown[1]) )):\n",
    "    print(a, b)"
   ]
  },
  {
   "cell_type": "code",
   "execution_count": null,
   "metadata": {},
   "outputs": [],
   "source": []
  }
 ],
 "metadata": {
  "kernelspec": {
   "display_name": "Python 3",
   "language": "python",
   "name": "python3"
  },
  "language_info": {
   "codemirror_mode": {
    "name": "ipython",
    "version": 3
   },
   "file_extension": ".py",
   "mimetype": "text/x-python",
   "name": "python",
   "nbconvert_exporter": "python",
   "pygments_lexer": "ipython3",
   "version": "3.6.8"
  }
 },
 "nbformat": 4,
 "nbformat_minor": 2
}

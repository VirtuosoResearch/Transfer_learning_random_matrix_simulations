{
 "cells": [
  {
   "cell_type": "code",
   "execution_count": 1,
   "metadata": {},
   "outputs": [],
   "source": [
    "%load_ext autoreload\n",
    "%autoreload 2\n",
    "%matplotlib inline"
   ]
  },
  {
   "cell_type": "code",
   "execution_count": 2,
   "metadata": {},
   "outputs": [],
   "source": [
    "import matplotlib.pyplot as plt\n",
    "import numpy as np\n",
    "import math\n",
    "\n",
    "np.random.seed(0)"
   ]
  },
  {
   "cell_type": "markdown",
   "metadata": {},
   "source": [
    "## Generate data, Estimators"
   ]
  },
  {
   "cell_type": "code",
   "execution_count": 18,
   "metadata": {},
   "outputs": [],
   "source": [
    "# params\n",
    "p = 200\n",
    "c1 = 90\n",
    "c2 = 30\n",
    "n1 = c1 * p\n",
    "n2 = c2 * p\n",
    "sigma = 5.0\n",
    "\n",
    "# covariates\n",
    "X1 = np.random.randn(n1, p)\n",
    "X2 = np.random.randn(n2, p)\n",
    "\n",
    "# models\n",
    "beta_t = np.random.randn(p, 1)\n",
    "\n",
    "# labels\n",
    "Y2 = X2 @ beta_t + sigma * np.random.randn(n2, 1)\n",
    "hat_beta_t = np.linalg.inv(X2.T @ X2) @ X2.T @ Y2\n",
    "\n",
    "# test data\n",
    "test_n2 = n2 * c2\n",
    "test_X2 = np.random.randn(test_n2, p)\n",
    "test_Y2 = test_X2 @ beta_t"
   ]
  },
  {
   "cell_type": "markdown",
   "metadata": {},
   "source": [
    "## Test errors and transfer"
   ]
  },
  {
   "cell_type": "code",
   "execution_count": 19,
   "metadata": {},
   "outputs": [],
   "source": [
    "d = 0.007\n",
    "beta_s = beta_t + d * np.random.randn(p, 1)\n",
    "Y1 = X1 @ beta_s + sigma * np.random.randn(n1, 1)\n",
    "\n",
    "hat_beta_st = np.linalg.inv(X1.T @ X1 + X2.T @ X2) @ (X1.T @ Y1 + X2.T @ Y2)\n",
    "\n",
    "te_beta_t = np.linalg.norm(test_X2 @ hat_beta_t - test_Y2) ** 2 / test_n2\n",
    "te_beta_st = np.linalg.norm(test_X2 @ hat_beta_st - test_Y2) ** 2 / test_n2"
   ]
  },
  {
   "cell_type": "code",
   "execution_count": 20,
   "metadata": {},
   "outputs": [
    {
     "name": "stdout",
     "output_type": "stream",
     "text": [
      "Test error: STL 0.8522147848913457 MTL 0.24744587739328183\n",
      "Positive transfer\n",
      "0.0056526416795091745 0.651984931903796\n",
      "0.005651740102171137\n",
      "0.6404682463081642 1.4931120006054166\n"
     ]
    }
   ],
   "source": [
    "print('Test error:', 'STL', te_beta_t, 'MTL', te_beta_st)\n",
    "if te_beta_st < te_beta_t:\n",
    "    print('Positive transfer')\n",
    "    \n",
    "delta_beta_base = p * c1**2 * (c1 + c2) / (c1 + c2 - 1)**3\n",
    "delta_beta = d**2 * delta_beta_base\n",
    "delta_var = sigma**2 * c1 / ((c2 - 1) * (c1 + c2 - 1))\n",
    "\n",
    "#print(p * (delta_var - c1**2 * delta_beta))\n",
    "\n",
    "print(delta_beta, delta_var) #, (1 + math.sqrt(p / n1))**4 * delta_beta)\n",
    "\n",
    "print(delta_var / delta_beta_base)\n",
    "\n",
    "#if delta_var <= (math.sqrt(n1) - math.sqrt(p))**4 * delta_beta:\n",
    "#    print('provably negative')\n",
    "\n",
    "deviation_ub = (1 + math.sqrt(1/c1))**4\n",
    "deviation_lb = (1 - math.sqrt(1/c1))**4\n",
    "\n",
    "print(deviation_lb, deviation_ub)"
   ]
  },
  {
   "cell_type": "markdown",
   "metadata": {},
   "source": [
    "## Plot"
   ]
  },
  {
   "cell_type": "code",
   "execution_count": 24,
   "metadata": {},
   "outputs": [],
   "source": [
    "d_list = [0.01 * i for i in range(1, 21)]\n",
    "te_mtl_list = []\n",
    "\n",
    "delta_beta_base = p * c1**2 * (c1 + c2) / (c1 + c2 - 1)**3\n",
    "\n",
    "provable_pos = [[], []]\n",
    "provable_neg = [[], []]\n",
    "unknown = [[], []]\n",
    "\n",
    "for d in d_list:\n",
    "    beta_s = beta_t + d * np.random.randn(p, 1)\n",
    "    Y1 = X1 @ beta_s + sigma * np.random.randn(n1, 1)\n",
    "\n",
    "    hat_beta_st = np.linalg.inv(X1.T @ X1 + X2.T @ X2) @ (X1.T @ Y1 + X2.T @ Y2)\n",
    "    te_beta_st = np.linalg.norm(test_X2 @ hat_beta_st - test_Y2) ** 2 / test_n2\n",
    "    \n",
    "    te_mtl_list.append(te_beta_st)\n",
    "    \n",
    "    delta_beta = d**2 * delta_beta_base\n",
    "    if delta_var / delta_beta > deviation_ub:\n",
    "        provable_pos[0].append(d)\n",
    "        provable_pos[1].append(te_beta_st)\n",
    "    elif delta_var / delta_beta < deviation_lb:    \n",
    "        provable_neg[0].append(d)\n",
    "        provable_neg[1].append(te_beta_st)\n",
    "    else:\n",
    "        unknown[0].append(d)\n",
    "        unknown[1].append(te_beta_st)"
   ]
  },
  {
   "cell_type": "code",
   "execution_count": 52,
   "metadata": {},
   "outputs": [
    {
     "name": "stderr",
     "output_type": "stream",
     "text": [
      "The PostScript backend does not support transparency; partially transparent artists will be rendered opaque.\n",
      "The PostScript backend does not support transparency; partially transparent artists will be rendered opaque.\n"
     ]
    },
    {
     "data": {
      "image/png": "[encoded data removed]",
      "text/plain": [
       "<Figure size 432x288 with 1 Axes>"
      ]
     },
     "metadata": {
      "needs_background": "light"
     },
     "output_type": "display_data"
    }
   ],
   "source": [
    "plt.scatter(provable_pos[0], provable_pos[1], marker='+', s=100, c='r', label='Positive transfer: our result')\n",
    "plt.scatter(provable_neg[0], provable_neg[1], marker='_', s=100, c='r', label='Negative transfer: our result')\n",
    "plt.scatter(unknown[0], unknown[1], marker='o', s=40, c='y')\n",
    "plt.plot(d_list, te_mtl_list, c='k', label='Multi-task learning')\n",
    "plt.plot(d_list, [te_beta_t] * len(d_list), c='k', ls='dotted', label='Single-task learning')\n",
    "\n",
    "plt.xlabel(r'Distance between task models $d$', fontsize=12)\n",
    "plt.ylabel('Test error on the target task', fontsize=12)\n",
    "plt.grid(0.4)\n",
    "plt.legend(fontsize=12)\n",
    "plt.tight_layout()\n",
    "plt.savefig('model_shift_phase_transition.eps')"
   ]
  },
  {
   "cell_type": "code",
   "execution_count": 8,
   "metadata": {},
   "outputs": [
    {
     "data": {
      "text/plain": [
       "439.4425360999792"
      ]
     },
     "execution_count": 8,
     "metadata": {},
     "output_type": "execute_result"
    }
   ],
   "source": [
    "np.linalg.norm(X1 @ beta_s) **2 / n1"
   ]
  },
  {
   "cell_type": "code",
   "execution_count": null,
   "metadata": {},
   "outputs": [],
   "source": []
  }
 ],
 "metadata": {
  "kernelspec": {
   "display_name": "Python 3",
   "language": "python",
   "name": "python3"
  },
  "language_info": {
   "codemirror_mode": {
    "name": "ipython",
    "version": 3
   },
   "file_extension": ".py",
   "mimetype": "text/x-python",
   "name": "python",
   "nbconvert_exporter": "python",
   "pygments_lexer": "ipython3",
   "version": "3.6.8"
  }
 },
 "nbformat": 4,
 "nbformat_minor": 2
}

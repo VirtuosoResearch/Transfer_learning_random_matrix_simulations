{
 "cells": [
  {
   "cell_type": "code",
   "execution_count": 1,
   "metadata": {},
   "outputs": [],
   "source": [
    "%load_ext autoreload\n",
    "%autoreload 2\n",
    "%matplotlib inline"
   ]
  },
  {
   "cell_type": "code",
   "execution_count": 2,
   "metadata": {},
   "outputs": [],
   "source": [
    "import matplotlib.pyplot as plt\n",
    "import numpy as np\n",
    "import math\n",
    "\n",
    "np.random.seed(0)"
   ]
  },
  {
   "cell_type": "markdown",
   "metadata": {},
   "source": [
    "## Generate data, Estimators"
   ]
  },
  {
   "cell_type": "code",
   "execution_count": 3,
   "metadata": {},
   "outputs": [],
   "source": [
    "# params\n",
    "p = 1000\n",
    "c1 = 2\n",
    "c2 = 2\n",
    "n1 = c1 * p\n",
    "n2 = c2 * p\n",
    "sigma = 0.1\n",
    "\n",
    "# covariates\n",
    "X1 = np.random.randn(n1, p) / p\n",
    "X2 = np.random.randn(n2, p) / p\n",
    "\n",
    "# models\n",
    "beta_t = np.random.randn(p, 1) / p\n",
    "\n",
    "# labels\n",
    "Y2 = X2 @ beta_t + sigma * np.random.randn(n2, 1)\n",
    "hat_beta_t = np.linalg.inv(X2.T @ X2) @ X2.T @ Y2\n",
    "\n",
    "# test data\n",
    "test_n2 = n2 * 10\n",
    "test_X2 = np.random.randn(test_n2, p) / p\n",
    "test_Y2 = test_X2 @ beta_t"
   ]
  },
  {
   "cell_type": "markdown",
   "metadata": {},
   "source": [
    "## Test errors and transfer"
   ]
  },
  {
   "cell_type": "code",
   "execution_count": 4,
   "metadata": {},
   "outputs": [],
   "source": [
    "d = 2.0\n",
    "beta_s = beta_t + d * np.random.randn(p, 1)\n",
    "Y1 = X1 @ beta_s + sigma * np.random.randn(n1, 1)\n",
    "\n",
    "hat_beta_st = np.linalg.inv(X1.T @ X1 + X2.T @ X2) @ (X1.T @ Y1 + X2.T @ Y2)\n",
    "\n",
    "te_beta_t = np.linalg.norm(test_X2 @ hat_beta_t - test_Y2) ** 2 / test_n2\n",
    "te_beta_st = np.linalg.norm(test_X2 @ hat_beta_st - test_Y2) ** 2 / test_n2"
   ]
  },
  {
   "cell_type": "code",
   "execution_count": 9,
   "metadata": {},
   "outputs": [
    {
     "name": "stdout",
     "output_type": "stream",
     "text": [
      "Test error: STL 0.010924393048297737 MTL 0.005054444089174922\n",
      "Positive transfer\n",
      "-37919.259259259255\n",
      "var 6.662935165955606 delta_var 0.006666666666666668\n"
     ]
    }
   ],
   "source": [
    "print('Test error:', 'STL', te_beta_t, 'MTL', te_beta_st)\n",
    "if te_beta_st < te_beta_t:\n",
    "    print('Positive transfer')\n",
    "    \n",
    "delta_beta = d**2 * (c1 + c2)**3 / (c1 + c2 - 1)**3\n",
    "delta_var = sigma**2 * c1 / ((c2 - 1) * (c1 + c2 - 1))\n",
    "\n",
    "print(p * (delta_var - c1**2 * delta_beta))\n",
    "\n",
    "empirical_var = sigma**2 * (np.trace(np.linalg.inv(X2.T @ X2)) - np.trace(np.linalg.inv(X1.T @ X1 + X2.T @ X2))) / p\n",
    "\n",
    "print('var', empirical_var, 'delta_var', delta_var)"
   ]
  },
  {
   "cell_type": "code",
   "execution_count": null,
   "metadata": {},
   "outputs": [],
   "source": []
  }
 ],
 "metadata": {
  "kernelspec": {
   "display_name": "Python 3",
   "language": "python",
   "name": "python3"
  },
  "language_info": {
   "codemirror_mode": {
    "name": "ipython",
    "version": 3
   },
   "file_extension": ".py",
   "mimetype": "text/x-python",
   "name": "python",
   "nbconvert_exporter": "python",
   "pygments_lexer": "ipython3",
   "version": "3.6.8"
  }
 },
 "nbformat": 4,
 "nbformat_minor": 2
}

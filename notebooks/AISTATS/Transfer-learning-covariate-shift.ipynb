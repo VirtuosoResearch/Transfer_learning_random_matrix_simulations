{
 "cells": [
  {
   "cell_type": "code",
   "execution_count": 9,
   "metadata": {},
   "outputs": [
    {
     "name": "stdout",
     "output_type": "stream",
     "text": [
      "The autoreload extension is already loaded. To reload it, use:\n",
      "  %reload_ext autoreload\n"
     ]
    }
   ],
   "source": [
    "%load_ext autoreload\n",
    "%autoreload 2\n",
    "%matplotlib inline"
   ]
  },
  {
   "cell_type": "code",
   "execution_count": 10,
   "metadata": {},
   "outputs": [],
   "source": [
    "import matplotlib.pyplot as plt\n",
    "import numpy as np\n",
    "import math\n",
    "from scipy.optimize import minimize_scalar\n",
    "\n",
    "np.random.seed(0)"
   ]
  },
  {
   "cell_type": "markdown",
   "metadata": {},
   "source": [
    "## Generate data, Estimators"
   ]
  },
  {
   "cell_type": "code",
   "execution_count": 15,
   "metadata": {},
   "outputs": [],
   "source": [
    "# params\n",
    "p = 200\n",
    "c2 = 30\n",
    "n2 = c2 * p\n",
    "sigma = 5.0\n",
    "\n",
    "# covariates\n",
    "X2 = np.random.randn(n2, p)\n",
    "\n",
    "# models\n",
    "beta_t = np.random.randn(p, 1)\n",
    "\n",
    "# labels\n",
    "Y2 = X2 @ beta_t + sigma * np.random.randn(n2, 1)\n",
    "hat_beta_t = np.linalg.inv(X2.T @ X2) @ X2.T @ Y2\n",
    "\n",
    "def te_target(X1, X2, beta_s, beta_t, w, sigma_2 = sigma, Sigma2_sqrt = np.eye(p)):\n",
    "    K = np.linalg.inv(w**2 * X1.T @ X1 + X2.T @ X2)\n",
    "    beta_diff = beta_s - w * beta_t\n",
    "    \n",
    "    var = sigma_2**2 * np.trace(K @ Sigma2_sqrt @ Sigma2_sqrt)\n",
    "    model_shift_bias = w**2 * np.linalg.norm(Sigma2_sqrt @ K @ X1.T @ X1 @ beta_diff) **2\n",
    "    return model_shift_bias + var\n",
    "\n",
    "def mtl_target(X1, X2, beta_s, beta_t, w, n1, n2, Sigma_1_sqrt = np.eye(p), Sigma_2_sqrt = np.eye(p)):\n",
    "    K = np.linalg.inv(w**2 * X1.T @ X1 + X2.T @ X2)\n",
    "    beta_diff = beta_s - w * beta_t\n",
    "    \n",
    "    var = sigma**2 * (n1 + n2) * np.trace(K)\n",
    "    model_shift_bias = n1 * (np.linalg.norm(K @ X2.T @ X2 @ beta_diff) ** 2)\n",
    "    model_shift_bias += n2 * w**2 * (np.linalg.norm(K @ X1.T @ X1 @ beta_diff) ** 2)\n",
    "    return (model_shift_bias + var) / (n1 + n2)"
   ]
  },
  {
   "cell_type": "markdown",
   "metadata": {},
   "source": [
    "## Find optimal w"
   ]
  },
  {
   "cell_type": "code",
   "execution_count": 16,
   "metadata": {},
   "outputs": [],
   "source": [
    "def mtt_opt_w(X1, X2, beta_s, beta_t, n1, n2, c = 1, lb = 0.0, ub = 5.0, num = 10):\n",
    "    def f_val(w):\n",
    "        return mtl_target(X1, X2, beta_s, beta_t, w, n1, n2)\n",
    "    \n",
    "    gap = ub / num\n",
    "    x_list = []\n",
    "    fun_list = []\n",
    "    for u in range(0, num):\n",
    "        res = minimize_scalar(f_val, bounds=(gap* u, gap* (u+1)), method='bounded')\n",
    "        x_list.append(res.x)\n",
    "        fun_list.append(res.fun)\n",
    "    \n",
    "    plt.figure(c)\n",
    "    plt.plot(x_list, fun_list)\n",
    "    \n",
    "    return x_list[np.argmin(fun_list)]\n",
    "\n",
    "def tl_opt_w(X1, X2, beta_s, beta_t, c = 1, lb = 0.0, ub = 5.0, num = 10):\n",
    "    def f(w):\n",
    "        return te_target(X1, X2, beta_s, beta_t, w)\n",
    "\n",
    "    gap = ub / num\n",
    "    x_list = []\n",
    "    fun_list = []\n",
    "    for u in range(0, num):\n",
    "        res = minimize_scalar(f, bounds=(gap* u, gap* (u+1)), method='bounded')\n",
    "        x_list.append(res.x)\n",
    "        fun_list.append(res.fun)\n",
    "        \n",
    "    plt.figure(c)\n",
    "    plt.plot(x_list, fun_list)\n",
    "        \n",
    "    return x_list[np.argmin(fun_list)]"
   ]
  },
  {
   "cell_type": "markdown",
   "metadata": {},
   "source": [
    "## Test errors and transfer"
   ]
  },
  {
   "cell_type": "code",
   "execution_count": 18,
   "metadata": {
    "scrolled": true
   },
   "outputs": [
    {
     "name": "stdout",
     "output_type": "stream",
     "text": [
      "Test error: STL 0.8628737208799517 MTL 0.7363639780435413 OPT_W 1.0179035737601565\n",
      "Positive transfer\n",
      "0.12677484787018256 0.0032081758050691725 39.516178530449686\n",
      "Provably positive\n",
      "0.09337474160020194 4.386625258399797\n"
     ]
    },
    {
     "data": {
      "image/png": "[encoded data removed]",
      "text/plain": [
       "<Figure size 432x288 with 1 Axes>"
      ]
     },
     "metadata": {
      "needs_background": "light"
     },
     "output_type": "display_data"
    }
   ],
   "source": [
    "def test_errors_and_transfer(c1, d):\n",
    "    n1 = c1 * p\n",
    "    X1 = np.random.randn(n1, p)\n",
    "\n",
    "    beta_s = beta_t + d * np.random.randn(p, 1)\n",
    "    Y1 = X1 @ beta_s + sigma * np.random.randn(n1, 1)\n",
    "\n",
    "    te_beta_t = te_target(X1, X2, beta_t, beta_t, 0)\n",
    "\n",
    "    w_hat = tl_opt_w(X1, X2, beta_s, beta_t, n1, n2)\n",
    "    te_beta_st = te_target(X1, X2, beta_s, beta_t, w_hat)\n",
    "    print('Test error:', 'STL', te_beta_t, 'MTL', te_beta_st, 'OPT_W', w_hat)\n",
    "\n",
    "    if te_beta_st <= te_beta_t:\n",
    "        print('Positive transfer')\n",
    "    else:\n",
    "        print('Negative transfer')\n",
    "        \n",
    "    delta_beta = p * ((1 - w_hat)**2 + d**2) * c1**2 * (c1 + c2) / (c1 + c2 - 1)**3\n",
    "    delta_var = sigma**2 * c1 / ((c2 - 1) * (c1 + c2 - 1))\n",
    "    deviation_ub = (1 + math.sqrt(1/c1))**4\n",
    "    deviation_lb = (1 - math.sqrt(1/c1))**4\n",
    "\n",
    "    print(delta_var, delta_beta, delta_var / delta_beta)\n",
    "\n",
    "    if delta_var / delta_beta >= deviation_ub:\n",
    "        print('Provably positive')\n",
    "    elif delta_var / delta_beta <= deviation_lb:\n",
    "        print('Provably negative')\n",
    "\n",
    "    print(deviation_lb, deviation_ub)\n",
    "    \n",
    "test_errors_and_transfer(5, 0.02)"
   ]
  },
  {
   "cell_type": "markdown",
   "metadata": {},
   "source": [
    "## Plot the effect of task distance"
   ]
  },
  {
   "cell_type": "code",
   "execution_count": 6,
   "metadata": {},
   "outputs": [
    {
     "ename": "NameError",
     "evalue": "name 'opt_w_val' is not defined",
     "output_type": "error",
     "traceback": [
      "\u001b[0;31m---------------------------------------------------------------------------\u001b[0m",
      "\u001b[0;31mNameError\u001b[0m                                 Traceback (most recent call last)",
      "\u001b[0;32m<ipython-input-6-1a3614120cb5>\u001b[0m in \u001b[0;36m<module>\u001b[0;34m\u001b[0m\n\u001b[1;32m     13\u001b[0m \u001b[0;34m\u001b[0m\u001b[0m\n\u001b[1;32m     14\u001b[0m     \u001b[0;31m#hat_beta_st = np.linalg.inv(X1.T @ X1 + X2.T @ X2) @ (X1.T @ Y1 + X2.T @ Y2)\u001b[0m\u001b[0;34m\u001b[0m\u001b[0;34m\u001b[0m\u001b[0;34m\u001b[0m\u001b[0m\n\u001b[0;32m---> 15\u001b[0;31m     \u001b[0mhat_w\u001b[0m \u001b[0;34m=\u001b[0m \u001b[0mopt_w_val\u001b[0m\u001b[0;34m(\u001b[0m\u001b[0mX1\u001b[0m\u001b[0;34m,\u001b[0m \u001b[0mX2\u001b[0m\u001b[0;34m,\u001b[0m \u001b[0mbeta_s\u001b[0m\u001b[0;34m,\u001b[0m \u001b[0mbeta_t\u001b[0m\u001b[0;34m,\u001b[0m \u001b[0mn1\u001b[0m\u001b[0;34m,\u001b[0m \u001b[0mn2\u001b[0m\u001b[0;34m)\u001b[0m\u001b[0;34m\u001b[0m\u001b[0;34m\u001b[0m\u001b[0m\n\u001b[0m\u001b[1;32m     16\u001b[0m     \u001b[0mte_beta_st\u001b[0m \u001b[0;34m=\u001b[0m \u001b[0mte_target\u001b[0m\u001b[0;34m(\u001b[0m\u001b[0mX1\u001b[0m\u001b[0;34m,\u001b[0m \u001b[0mX2\u001b[0m\u001b[0;34m,\u001b[0m \u001b[0mbeta_s\u001b[0m\u001b[0;34m,\u001b[0m \u001b[0mbeta_t\u001b[0m\u001b[0;34m,\u001b[0m \u001b[0mhat_w\u001b[0m\u001b[0;34m)\u001b[0m\u001b[0;34m\u001b[0m\u001b[0;34m\u001b[0m\u001b[0m\n\u001b[1;32m     17\u001b[0m \u001b[0;34m\u001b[0m\u001b[0m\n",
      "\u001b[0;31mNameError\u001b[0m: name 'opt_w_val' is not defined"
     ]
    }
   ],
   "source": [
    "d_list = [0.01 * i for i in range(1, 21)]\n",
    "te_mtl_list = []\n",
    "\n",
    "delta_beta_base = p * c1**2 * (c1 + c2) / (c1 + c2 - 1)**3\n",
    "\n",
    "provable_pos = [[], []]\n",
    "provable_neg = [[], []]\n",
    "unknown = [[], []]\n",
    "\n",
    "for d in d_list:\n",
    "    beta_s = beta_t + d * np.random.randn(p, 1)\n",
    "    Y1 = X1 @ beta_s + sigma * np.random.randn(n1, 1)\n",
    "\n",
    "    #hat_beta_st = np.linalg.inv(X1.T @ X1 + X2.T @ X2) @ (X1.T @ Y1 + X2.T @ Y2)\n",
    "    hat_w = opt_w_val(X1, X2, beta_s, beta_t, n1, n2)\n",
    "    te_beta_st = te_target(X1, X2, beta_s, beta_t, hat_w)\n",
    "    \n",
    "    #te_beta_st = np.linalg.norm(test_X2 @ hat_beta_st - test_Y2) ** 2 / test_n2\n",
    "    te_mtl_list.append(te_beta_st)\n",
    "    \n",
    "    delta_beta = ((1 - hat_w)**2 + d**2) * delta_beta_base    \n",
    "    delta_var = sigma**2 * c1 / ((c2 - 1) * (c1 + c2 - 1))\n",
    "    deviation_ub = (1 + math.sqrt(1/c1))**4\n",
    "    deviation_lb = (1 - math.sqrt(1/c1))**4\n",
    "\n",
    "    if delta_var / delta_beta > deviation_ub:\n",
    "        provable_pos[0].append(d)\n",
    "        provable_pos[1].append(te_beta_st)\n",
    "    elif delta_var / delta_beta < deviation_lb:    \n",
    "        provable_neg[0].append(d)\n",
    "        provable_neg[1].append(te_beta_st)\n",
    "    else:\n",
    "        unknown[0].append(d)\n",
    "        unknown[1].append(te_beta_st)"
   ]
  },
  {
   "cell_type": "code",
   "execution_count": null,
   "metadata": {},
   "outputs": [],
   "source": [
    "te_beta_t = te_target(X1, X2, beta_s, beta_t, 0)\n",
    "\n",
    "plt.figure(figsize=(6,3.5))\n",
    "\n",
    "plt.scatter(provable_pos[0], provable_pos[1], marker='+', s=100, lw=4, c='r', label='Provably positive: our result')\n",
    "plt.scatter(provable_neg[0], provable_neg[1], marker='_', s=100, lw=4, c='r', label='Provably negative: our result')\n",
    "plt.scatter(unknown[0], unknown[1], marker='o', s=20, lw=4, c='y')\n",
    "plt.plot(d_list, te_mtl_list, c='k', lw=2, label='Multi-task training')\n",
    "plt.plot(d_list, [te_beta_t] * len(d_list), lw=2.5, c='k', ls='dotted', label='Single-task training')\n",
    "\n",
    "plt.xlabel(r'Distance between task models $d$', fontsize=12)\n",
    "plt.ylabel('Test error on the target task', fontsize=12)\n",
    "plt.grid(0.4)\n",
    "plt.legend(fontsize=12)\n",
    "plt.tight_layout()\n",
    "plt.savefig('model_shift_phase_transition.eps')"
   ]
  },
  {
   "cell_type": "markdown",
   "metadata": {},
   "source": [
    "## Plot the effect of source task data size"
   ]
  },
  {
   "cell_type": "code",
   "execution_count": null,
   "metadata": {},
   "outputs": [],
   "source": []
  }
 ],
 "metadata": {
  "kernelspec": {
   "display_name": "Python 3",
   "language": "python",
   "name": "python3"
  },
  "language_info": {
   "codemirror_mode": {
    "name": "ipython",
    "version": 3
   },
   "file_extension": ".py",
   "mimetype": "text/x-python",
   "name": "python",
   "nbconvert_exporter": "python",
   "pygments_lexer": "ipython3",
   "version": "3.6.8"
  }
 },
 "nbformat": 4,
 "nbformat_minor": 2
}

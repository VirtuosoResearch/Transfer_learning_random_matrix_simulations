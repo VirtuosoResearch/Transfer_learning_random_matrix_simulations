{
 "cells": [
  {
   "cell_type": "code",
   "execution_count": 1,
   "metadata": {},
   "outputs": [],
   "source": [
    "%load_ext autoreload\n",
    "%autoreload 2\n",
    "%matplotlib inline"
   ]
  },
  {
   "cell_type": "code",
   "execution_count": 2,
   "metadata": {},
   "outputs": [
    {
     "data": {
      "text/plain": [
       "<torch._C.Generator at 0x7fdd48509f90>"
      ]
     },
     "execution_count": 2,
     "metadata": {},
     "output_type": "execute_result"
    }
   ],
   "source": [
    "import matplotlib.pyplot as plt\n",
    "import numpy as np\n",
    "import math\n",
    "from scipy.optimize import minimize_scalar\n",
    "\n",
    "from numpy.linalg import inv, norm\n",
    "import matplotlib.pyplot as plt\n",
    "import torch\n",
    "from torch import nn, optim\n",
    "from itertools import chain\n",
    "import random\n",
    "\n",
    "\n",
    "np.random.seed(0)\n",
    "random.seed(0)\n",
    "torch.manual_seed(0)"
   ]
  },
  {
   "cell_type": "markdown",
   "metadata": {},
   "source": [
    "## Generate data"
   ]
  },
  {
   "cell_type": "code",
   "execution_count": 3,
   "metadata": {},
   "outputs": [],
   "source": [
    "# params\n",
    "p = 200\n",
    "c = 10\n",
    "n = c * p\n",
    "sigma = 0.5\n",
    "t = 10 # number of tasks\n",
    "\n",
    "# covariates\n",
    "X = np.random.randn(n, p)\n",
    "\n",
    "# models\n",
    "beta_0 = np.random.randn(p, 1) / math.sqrt(p)\n",
    "r = 1"
   ]
  },
  {
   "cell_type": "markdown",
   "metadata": {},
   "source": [
    "## Get HPS estimators"
   ]
  },
  {
   "cell_type": "code",
   "execution_count": 4,
   "metadata": {},
   "outputs": [],
   "source": [
    "#args.print_every = 20\n",
    "#args.epochs = 1000\n",
    "#args.lr = 0.02\n",
    "#two_layer_square_loss(data_train, data_test, args)\n",
    "\n",
    "def get_HPS_estimator(X, Y):\n",
    "    A_hat = Y.T @ X @ np.linalg.inv(X.T @ X) @ X.T @ Y\n",
    "    U, D, V = np.linalg.svd(A_hat)\n",
    "    U = U[:, :r]\n",
    "    BA_hat = np.linalg.inv(X.T @ X) @ X.T @ Y @ U @ U.T\n",
    "    \n",
    "    return BA_hat"
   ]
  },
  {
   "cell_type": "code",
   "execution_count": 5,
   "metadata": {},
   "outputs": [],
   "source": [
    "#print('B_star', B_star)\n",
    "\n",
    "#print('U', U)\n",
    "\n",
    "#print(BA_hat - B_star)"
   ]
  },
  {
   "cell_type": "markdown",
   "metadata": {},
   "source": [
    "## Get prediction loss"
   ]
  },
  {
   "cell_type": "code",
   "execution_count": 6,
   "metadata": {
    "scrolled": false
   },
   "outputs": [],
   "source": [
    "def get_avg_pred_loss(BA_hat):\n",
    "    err = np.linalg.norm(BA_hat - B_star, 'fro') ** 2\n",
    "    return err / t"
   ]
  },
  {
   "cell_type": "markdown",
   "metadata": {},
   "source": [
    "## Vary total sample size"
   ]
  },
  {
   "cell_type": "code",
   "execution_count": 7,
   "metadata": {},
   "outputs": [
    {
     "name": "stdout",
     "output_type": "stream",
     "text": [
      "(400, 200) (400, 10)\n",
      "(600, 200) (600, 10)\n",
      "(800, 200) (800, 10)\n",
      "(1000, 200) (1000, 10)\n",
      "(1200, 200) (1200, 10)\n",
      "(1400, 200) (1400, 10)\n",
      "(1600, 200) (1600, 10)\n",
      "(1800, 200) (1800, 10)\n",
      "(2000, 200) (2000, 10)\n"
     ]
    }
   ],
   "source": [
    "d = 0.2\n",
    "B_star = beta_0 @ np.ones((1, t)) + d * np.random.randn(p, t) / math.sqrt(p)\n",
    "Y = X @ B_star + sigma * np.random.randn(n, t)\n",
    "\n",
    "n_list = [i * p for i in range(2, c + 1)]\n",
    "emp_avg_loss_list = []\n",
    "\n",
    "stl_list = []\n",
    "\n",
    "for i in n_list:\n",
    "    X_i = X[:i, :]\n",
    "    Y_i = Y[:i, :]\n",
    "    \n",
    "    print(X_i.shape, Y_i.shape)\n",
    "    \n",
    "    stl_list.append(sigma**2 * np.trace(np.linalg.inv(X_i.T @ X_i)))\n",
    "    \n",
    "    BA_hat = get_HPS_estimator(X_i, Y_i)\n",
    "    avg_loss = get_avg_pred_loss(BA_hat)\n",
    "    emp_avg_loss_list.append(avg_loss)\n",
    "\n",
    "thm_avg_loss_list = [(1 - r / float(t)) * d**2 + (float(r) / t) * (sigma**2 * p) / (i - p) for i in n_list]"
   ]
  },
  {
   "cell_type": "code",
   "execution_count": 8,
   "metadata": {},
   "outputs": [
    {
     "name": "stdout",
     "output_type": "stream",
     "text": [
      "[400, 600, 800, 1000, 1200, 1400, 1600, 1800, 2000]\n",
      "[0.06097580312778087, 0.050317823385724006, 0.045066959426342076, 0.043554132278083066, 0.04201525823626638, 0.04060978987557555, 0.04023891435345959, 0.03969786858979875, 0.039191787741846056]\n",
      "[0.06100000000000001, 0.048500000000000015, 0.04433333333333334, 0.04225000000000001, 0.04100000000000001, 0.04016666666666668, 0.039571428571428584, 0.039125000000000014, 0.038777777777777786]\n",
      "[0.25452568237621026, 0.12619721712871343, 0.08348620613422573, 0.062552325771388, 0.05001973634757232, 0.04176568433158476, 0.03575469940862358, 0.03127079016492476, 0.027812608965034367]\n",
      "stl 0.027777777777777776\n"
     ]
    }
   ],
   "source": [
    "print(n_list)\n",
    "print(emp_avg_loss_list)\n",
    "print(thm_avg_loss_list)\n",
    "\n",
    "print(stl_list)\n",
    "print('stl', sigma**2 * p / (n-p))\n",
    "\n",
    "d2_emp_avg_loss_list = emp_avg_loss_list\n",
    "d2_thm_avg_loss_list = thm_avg_loss_list"
   ]
  },
  {
   "cell_type": "code",
   "execution_count": 9,
   "metadata": {},
   "outputs": [],
   "source": [
    "d1_emp_avg_loss_list = emp_avg_loss_list\n",
    "d1_thm_avg_loss_list = thm_avg_loss_list"
   ]
  },
  {
   "cell_type": "code",
   "execution_count": 13,
   "metadata": {},
   "outputs": [
    {
     "name": "stderr",
     "output_type": "stream",
     "text": [
      "The PostScript backend does not support transparency; partially transparent artists will be rendered opaque.\n",
      "The PostScript backend does not support transparency; partially transparent artists will be rendered opaque.\n"
     ]
    },
    {
     "data": {
      "image/png": "[encoded data removed]",
      "text/plain": [
       "<Figure size 432x360 with 1 Axes>"
      ]
     },
     "metadata": {
      "needs_background": "light"
     },
     "output_type": "display_data"
    }
   ],
   "source": [
    "plt.figure(figsize=(6,5))\n",
    "\n",
    "plt.plot(n_list, stl_list, linestyle='--', dashes=(1, 3),  c='k', lw=4, label='STL')\n",
    "\n",
    "plt.plot(n_list, d2_emp_avg_loss_list, linestyle='--', dashes=(1, 2),  c='k', lw=4, label=r'$d = 0.2$')\n",
    "plt.plot(n_list, d2_thm_avg_loss_list, c='g', lw=2, label=r'$d = 0.2$')\n",
    "\n",
    "plt.plot(n_list, d1_emp_avg_loss_list, linestyle='--', dashes=(1, 1),  c='k', lw=4, label=r'$d = 0.1$')\n",
    "plt.plot(n_list, d1_thm_avg_loss_list, c='r', lw=2, label=r'$d = 0.1$')\n",
    "\n",
    "\n",
    "\n",
    "#plt.xticks(np.arange(400, 2400, 400), fontsize=14)\n",
    "#plt.yticks(np.arange(0.02, 0.08, 0.02), fontsize=14)\n",
    "#plt.xlim([0,6])\n",
    "\n",
    "#plt.ylim([0.01, 0.075])\n",
    "\n",
    "plt.xlabel('Per-task sample size', fontsize=18)\n",
    "plt.ylabel('Average prediction loss', fontsize=18)\n",
    "plt.grid(ls = ':', lw=0.8)\n",
    "plt.legend(fontsize=16)\n",
    "plt.tight_layout()\n",
    "plt.savefig('same_covariates.eps')"
   ]
  },
  {
   "cell_type": "markdown",
   "metadata": {},
   "source": [
    "## Plot the effect of source task data size"
   ]
  },
  {
   "cell_type": "code",
   "execution_count": 11,
   "metadata": {},
   "outputs": [],
   "source": [
    "#1.0 - np.ndarray.flatten(np.array(cos_sim_list))"
   ]
  },
  {
   "cell_type": "code",
   "execution_count": 12,
   "metadata": {},
   "outputs": [
    {
     "ename": "NameError",
     "evalue": "name 'te_beta_t' is not defined",
     "output_type": "error",
     "traceback": [
      "\u001b[0;31m---------------------------------------------------------------------------\u001b[0m",
      "\u001b[0;31mNameError\u001b[0m                                 Traceback (most recent call last)",
      "\u001b[0;32m<ipython-input-12-daa7583ade95>\u001b[0m in \u001b[0;36m<module>\u001b[0;34m\u001b[0m\n\u001b[0;32m----> 1\u001b[0;31m \u001b[0mte_beta_t\u001b[0m \u001b[0;34m-\u001b[0m \u001b[0mnp\u001b[0m\u001b[0;34m.\u001b[0m\u001b[0marray\u001b[0m\u001b[0;34m(\u001b[0m\u001b[0mte_mtl_list\u001b[0m\u001b[0;34m)\u001b[0m\u001b[0;34m\u001b[0m\u001b[0;34m\u001b[0m\u001b[0m\n\u001b[0m",
      "\u001b[0;31mNameError\u001b[0m: name 'te_beta_t' is not defined"
     ]
    }
   ],
   "source": [
    "te_beta_t - np.array(te_mtl_list)"
   ]
  },
  {
   "cell_type": "code",
   "execution_count": null,
   "metadata": {},
   "outputs": [],
   "source": [
    "np.array(d_list)/sigma**2"
   ]
  },
  {
   "cell_type": "code",
   "execution_count": null,
   "metadata": {},
   "outputs": [],
   "source": [
    "for a, b in zip(1000* np.array(provable_pos[0])/sigma**2, te_beta_t - np.array(provable_pos[1])):\n",
    "    print(a, b)\n",
    "print()\n",
    "\n",
    "for a, b in zip(x_thy_neg, y_thy_neg):\n",
    "    print(a, b)\n",
    "print()\n",
    "\n",
    "for a, b in zip(1000* np.array(unknown[0])/sigma**2, te_beta_t - np.array(unknown[1])):\n",
    "    print(a, b)"
   ]
  },
  {
   "cell_type": "code",
   "execution_count": null,
   "metadata": {},
   "outputs": [],
   "source": [
    "thy_neg = 1000* np.array(provable_neg[0])/sigma**2\n",
    "print(thy_neg[:8])"
   ]
  },
  {
   "cell_type": "code",
   "execution_count": null,
   "metadata": {},
   "outputs": [],
   "source": [
    "print(B_star)"
   ]
  },
  {
   "cell_type": "code",
   "execution_count": null,
   "metadata": {},
   "outputs": [],
   "source": []
  },
  {
   "cell_type": "code",
   "execution_count": null,
   "metadata": {},
   "outputs": [],
   "source": [
    "[0.036200516238370825, 0.0338041386386532, 0.03237846769917451, 0.0315425075478014, 0.03106043739695919, 0.030839254903264286, 0.03077688374697106, 0.030850093273344235, 0.031162991896567068, 0.031159971596691607, 0.031378247890921224, 0.03155231475436127, 0.03190086046063125, 0.032159217751299096, 0.03241576898581232, 0.032665833207184344]\n",
    "[0.03619402, 0.03387497, 0.03250933, 0.03173627, 0.03134094, 0.03119067,\n",
    " 0.03120112, 0.03131732, 0.03150278, 0.03173284, 0.03199069, 0.03226471,\n",
    " 0.03254688, 0.03283162, 0.03311506, 0.03339454]"
   ]
  },
  {
   "cell_type": "code",
   "execution_count": null,
   "metadata": {},
   "outputs": [],
   "source": []
  }
 ],
 "metadata": {
  "kernelspec": {
   "display_name": "Python 3",
   "language": "python",
   "name": "python3"
  },
  "language_info": {
   "codemirror_mode": {
    "name": "ipython",
    "version": 3
   },
   "file_extension": ".py",
   "mimetype": "text/x-python",
   "name": "python",
   "nbconvert_exporter": "python",
   "pygments_lexer": "ipython3",
   "version": "3.6.12"
  }
 },
 "nbformat": 4,
 "nbformat_minor": 2
}

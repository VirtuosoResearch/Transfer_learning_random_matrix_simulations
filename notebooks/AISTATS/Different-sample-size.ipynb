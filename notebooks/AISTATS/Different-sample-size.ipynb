{
 "cells": [
  {
   "cell_type": "code",
   "execution_count": 1,
   "metadata": {},
   "outputs": [],
   "source": [
    "%load_ext autoreload\n",
    "%autoreload 2\n",
    "%matplotlib inline"
   ]
  },
  {
   "cell_type": "code",
   "execution_count": 2,
   "metadata": {},
   "outputs": [],
   "source": [
    "import matplotlib.pyplot as plt\n",
    "import numpy as np\n",
    "import math\n",
    "from scipy.optimize import minimize_scalar\n",
    "\n",
    "np.random.seed(0)"
   ]
  },
  {
   "cell_type": "markdown",
   "metadata": {},
   "source": [
    "## Generate data, Estimators"
   ]
  },
  {
   "cell_type": "code",
   "execution_count": 14,
   "metadata": {},
   "outputs": [],
   "source": [
    "# params\n",
    "p = 200\n",
    "c1 = 4\n",
    "c2 = 4\n",
    "n1 = c1 * p\n",
    "n2 = c2 * p\n",
    "sigma = 0.4\n",
    "\n",
    "# covariates\n",
    "X2 = np.random.randn(n2, p)\n",
    "\n",
    "# models\n",
    "beta_t = np.random.randn(p, 1) / math.sqrt(p)\n",
    "\n",
    "# labels\n",
    "Y2 = X2 @ beta_t + sigma * np.random.randn(n2, 1)\n",
    "hat_beta_t = np.linalg.inv(X2.T @ X2) @ X2.T @ Y2\n",
    "\n",
    "def te_target(X1, X2, beta_s, beta_t, w, sigma_2 = sigma, Sigma2_sqrt = np.eye(p)):\n",
    "    K = np.linalg.inv(w**2 * X1.T @ X1 + X2.T @ X2)\n",
    "    beta_diff = beta_s - w * beta_t\n",
    "    \n",
    "    var = sigma_2**2 * np.trace(K @ Sigma2_sqrt @ Sigma2_sqrt)\n",
    "    model_shift_bias = w**2 * np.linalg.norm(Sigma2_sqrt @ K @ X1.T @ X1 @ beta_diff) **2\n",
    "    return model_shift_bias + var\n",
    "\n",
    "def mtl_target(X1, X2, beta_s, beta_t, w, n1, n2, Sigma_1_sqrt = np.eye(p), Sigma_2_sqrt = np.eye(p)):\n",
    "    K = np.linalg.inv(w**2 * X1.T @ X1 + X2.T @ X2)\n",
    "    beta_diff = beta_s - w * beta_t\n",
    "    \n",
    "    var = sigma**2 * (n1 + n2) * np.trace(K)\n",
    "    model_shift_bias = n1 * (np.linalg.norm(K @ X2.T @ X2 @ beta_diff) ** 2)\n",
    "    model_shift_bias += n2 * w**2 * (np.linalg.norm(K @ X1.T @ X1 @ beta_diff) ** 2)\n",
    "    return (model_shift_bias + var) / (n1 + n2)"
   ]
  },
  {
   "cell_type": "markdown",
   "metadata": {},
   "source": [
    "## Find optimal w"
   ]
  },
  {
   "cell_type": "code",
   "execution_count": 15,
   "metadata": {},
   "outputs": [],
   "source": [
    "def opt_w_val(X1, X2, beta_s, beta_t, n1, n2, c = 1, lb = 0.0, ub = 5.0, num = 10):\n",
    "    def f_val(w):\n",
    "        return mtl_target(X1, X2, beta_s, beta_t, w, n1, n2)\n",
    "    \n",
    "    gap = ub / num\n",
    "    x_list = []\n",
    "    fun_list = []\n",
    "    for u in range(0, num):\n",
    "        res = minimize_scalar(f_val, bounds=(gap* u, gap* (u+1)), method='bounded')\n",
    "        x_list.append(res.x)\n",
    "        fun_list.append(res.fun)\n",
    "    \n",
    "    plt.figure(c)\n",
    "    plt.plot(x_list, fun_list)\n",
    "    \n",
    "    return x_list[np.argmin(fun_list)]\n",
    "\n",
    "def opt_w(X1, X2, beta_s, beta_t, c = 1, lb = 0.0, ub = 5.0, num = 10):\n",
    "    def f(w):\n",
    "        return te_target(X1, X2, beta_s, beta_t, w)\n",
    "\n",
    "    gap = ub / num\n",
    "    x_list = []\n",
    "    fun_list = []\n",
    "    for u in range(0, num):\n",
    "        res = minimize_scalar(f, bounds=(gap* u, gap* (u+1)), method='bounded')\n",
    "        x_list.append(res.x)\n",
    "        fun_list.append(res.fun)\n",
    "        \n",
    "    plt.figure(c)\n",
    "    plt.plot(x_list, fun_list)\n",
    "        \n",
    "    return x_list[np.argmin(fun_list)]"
   ]
  },
  {
   "cell_type": "code",
   "execution_count": 16,
   "metadata": {},
   "outputs": [],
   "source": [
    "#sigma = 4\n",
    "#c2 = 500\n",
    "#print(sigma, c2)\n",
    "\n",
    "#d = 0.02\n",
    "#threshold_ex = sigma**2 / (p * d**2 - sigma**2 / c2)\n",
    "\n",
    "#print('is negative when c1 is large', c2 > threshold_ex)\n",
    "\n",
    "#print(threshold_ex)\n",
    "#c1 = 200\n",
    "#lb = sigma**2 / (p * d**2 * (1 + 1.0 / math.sqrt(c1))**4 - sigma**2 / c2)\n",
    "#print(lb)\n",
    "\n",
    "#c1 = 500\n",
    "#ub = sigma**2 / (p * d**2 * (1 - 1.0 / math.sqrt(c1))**4 - sigma**2 / c2)\n",
    "#print(ub)"
   ]
  },
  {
   "cell_type": "markdown",
   "metadata": {},
   "source": [
    "## Test errors and transfer"
   ]
  },
  {
   "cell_type": "code",
   "execution_count": 17,
   "metadata": {
    "scrolled": false
   },
   "outputs": [],
   "source": [
    "def test_errors_and_transfer(c1, d):\n",
    "    beta_s = beta_t + d * np.random.randn(p, 1) / math.sqrt(p)\n",
    "    n1 = c1 * p\n",
    "    X1 = np.random.randn(n1, p)\n",
    "    Y1 = X1 @ beta_s + sigma * np.random.randn(n1, 1)\n",
    "\n",
    "    te_beta_t = te_target(X1, X2, beta_t, beta_t, 0)\n",
    "\n",
    "    w_hat = opt_w_val(X1, X2, beta_s, beta_t, n1, n2)\n",
    "    te_beta_st = te_target(X1, X2, beta_s, beta_t, w_hat)\n",
    "    print('Test error:', 'STL', te_beta_t, 'MTL', te_beta_st, 'OPT_W', w_hat)\n",
    "\n",
    "    if te_beta_st < te_beta_t:\n",
    "        print('Positive transfer')\n",
    "    else:\n",
    "        print('Negative transfer')\n",
    "        \n",
    "    delta_beta = p * ((1 - w_hat)**2 + d**2) * c1**2 * (c1 + c2) / (c1 + c2 - 1)**3\n",
    "    delta_var = sigma**2 * c1 / ((c2 - 1) * (c1 + c2 - 1))\n",
    "    deviation_ub = (1 + math.sqrt(1/c1))**4\n",
    "    deviation_lb = (1 - math.sqrt(1/c1))**4\n",
    "\n",
    "    print(delta_var, delta_beta, delta_var / delta_beta)\n",
    "\n",
    "    if delta_var / delta_beta >= deviation_ub:\n",
    "        print('Provably positive')\n",
    "    elif delta_var / delta_beta <= deviation_lb:\n",
    "        print('Provably negative')\n",
    "\n",
    "    print(deviation_lb, deviation_ub)\n",
    "\n",
    "#d = 0.02\n",
    "#c1 = 50\n",
    "#test_errors_and_transfer(c1, d)\n",
    "\n",
    "#c1 = 500\n",
    "#test_errors_and_transfer(c1, d)"
   ]
  },
  {
   "cell_type": "markdown",
   "metadata": {},
   "source": [
    "## Plot the effect of task distance"
   ]
  },
  {
   "cell_type": "code",
   "execution_count": 29,
   "metadata": {
    "scrolled": false
   },
   "outputs": [
    {
     "data": {
      "image/png": "[encoded data removed]",
      "text/plain": [
       "<Figure size 432x288 with 1 Axes>"
      ]
     },
     "metadata": {
      "needs_background": "light"
     },
     "output_type": "display_data"
    }
   ],
   "source": [
    "d = 0.3\n",
    "c1_list = [i * 0.5 for i in range(1, 11)]\n",
    "te_mtl_list = []\n",
    "\n",
    "provable_pos = [[], []]\n",
    "provable_neg = [[], []]\n",
    "unknown = [[], []]\n",
    "\n",
    "beta_s = beta_t + d * np.random.randn(p, 1) / math.sqrt(p)\n",
    "\n",
    "for c1 in c1_list:\n",
    "    n1 = int(c1 * p)\n",
    "    X1 = np.random.randn(n1, p)\n",
    "    Y1 = X1 @ beta_s + sigma * np.random.randn(n1, 1)\n",
    "\n",
    "    #hat_beta_st = np.linalg.inv(X1.T @ X1 + X2.T @ X2) @ (X1.T @ Y1 + X2.T @ Y2)\n",
    "    hat_w = opt_w_val(X1, X2, beta_s, beta_t, n1, n2)\n",
    "    te_beta_st = te_target(X1, X2, beta_s, beta_t, hat_w)\n",
    "    \n",
    "    #te_beta_st = np.linalg.norm(test_X2 @ hat_beta_st - test_Y2) ** 2 / test_n2\n",
    "    te_mtl_list.append(te_beta_st)\n",
    "\n",
    "    delta_beta_base = p * c1**2 * (c1 + c2) / (c1 + c2 - 1)**3\n",
    "    delta_beta = ((1 - hat_w)**2 + d**2) * delta_beta_base\n",
    "    delta_var = sigma**2 * c1 / ((c2 - 1) * (c1 + c2 - 1))\n",
    "    deviation_ub = (1 + math.sqrt(1/c1))**4\n",
    "    deviation_lb = (1 - math.sqrt(1/c1))**4\n",
    "\n",
    "    if delta_var / delta_beta > deviation_ub:\n",
    "        provable_pos[0].append(c1)\n",
    "        provable_pos[1].append(te_beta_st)\n",
    "    elif delta_var / delta_beta < deviation_lb:    \n",
    "        provable_neg[0].append(c1)\n",
    "        provable_neg[1].append(te_beta_st)\n",
    "    else:\n",
    "        unknown[0].append(c1)\n",
    "        unknown[1].append(te_beta_st)"
   ]
  },
  {
   "cell_type": "code",
   "execution_count": 30,
   "metadata": {
    "scrolled": true
   },
   "outputs": [
    {
     "name": "stdout",
     "output_type": "stream",
     "text": [
      "[0.5, 1.0, 1.5, 2.0, 2.5, 3.0, 3.5, 4.0, 4.5, 5.0]\n",
      "[0.04991668949421696, 0.04770663450813831, 0.04602441743955489, 0.04402945391827429, 0.04582939026969149, 0.04517942524921382, 0.04749385045183967, 0.050409531861757575, 0.050428161188509936, 0.050470054101807035]\n",
      "[0.0480758  0.04703125 0.04777778 0.04928    0.05106687 0.05291667\n",
      " 0.05472462 0.05644315 0.05805333 0.05955078]\n",
      "[ 0.00184089  0.00067538 -0.00175336 -0.00525055 -0.00523748 -0.00773724\n",
      " -0.00723077 -0.00603362 -0.00762517 -0.00908073]\n"
     ]
    }
   ],
   "source": [
    "print(c1_list)\n",
    "estimate_list = [d**2 * c1**2 * (c1 + c2) / (c1 + c2 - 1)**3 + sigma**2 / (c1 + c2 - 1) for c1 in c1_list]\n",
    "\n",
    "print(te_mtl_list)\n",
    "print(np.array(estimate_list))\n",
    "\n",
    "print(np.array(te_mtl_list) - np.array(estimate_list))\n"
   ]
  },
  {
   "cell_type": "code",
   "execution_count": 31,
   "metadata": {},
   "outputs": [
    {
     "name": "stderr",
     "output_type": "stream",
     "text": [
      "No handles with labels found to put in legend.\n",
      "The PostScript backend does not support transparency; partially transparent artists will be rendered opaque.\n",
      "The PostScript backend does not support transparency; partially transparent artists will be rendered opaque.\n"
     ]
    },
    {
     "data": {
      "image/png": "[encoded data removed]",
      "text/plain": [
       "<Figure size 432x396 with 1 Axes>"
      ]
     },
     "metadata": {
      "needs_background": "light"
     },
     "output_type": "display_data"
    }
   ],
   "source": [
    "te_beta_t = te_target(X1, X2, beta_s, beta_t, 0)\n",
    "\n",
    "plt.figure(figsize=(6,5.5))\n",
    "\n",
    "\n",
    "\n",
    "\n",
    "\n",
    "plt.plot(c1_list, te_mtl_list, c='r')\n",
    "plt.plot(c1_list, estimate_list)\n",
    "\n",
    "\n",
    "#x_thy = np.array(provable_neg[0]) / c2\n",
    "#y_thy = 100*(te_beta_t-np.array(provable_neg[1]) )\n",
    "#x_thy = x_thy[: len(x_thy) - cut]\n",
    "#y_thy = y_thy[: len(y_thy) - cut]\n",
    "#x_emp = np.array(c1_list) / c2\n",
    "#y_emp = 100*(te_beta_t-np.array(te_mtl_list) )\n",
    "#x_emp = x_emp[: len(x_emp) - cut]\n",
    "#y_emp = y_emp[: len(y_emp) - cut]\n",
    "\n",
    "#cut = 4\n",
    "\n",
    "#plt.scatter(np.array(provable_pos[0]) / c2, 1.5* 100*(te_beta_t-np.array(provable_pos[1]) ), marker='+', s=300, lw=4, c='r', label='Predicted positive')\n",
    "#plt.scatter(x_thy, 1.5 * y_thy, marker='_', s=300, lw=4, c='orange', label='Predicted negative')\n",
    "#plt.scatter(np.array(unknown[0]) / c2, 1.5 * 100*(te_beta_t-np.array(unknown[1]) ), marker='o', s=20, lw=4, c='y')\n",
    "#plt.plot(x_emp, 1.5 * y_emp, c='k', lw=3, ls=':', label='Empirical curve')\n",
    "\n",
    "#plt.plot(np.arange(0,900,50), [te_beta_t] * 18, lw=3, c='k', ls='dotted', label='Single-task learning')\n",
    "\n",
    "plt.xlabel('Source/Target data size', fontsize=18)\n",
    "plt.ylabel('Improvement over target task', fontsize=18)\n",
    "\n",
    "#plt.xticks(np.arange(0.0, 2.0, 0.4), fontsize=14)\n",
    "#plt.yticks(np.arange(-0.75, 1.5, 0.25), fontsize=14)\n",
    "#plt.xlim([0,1.6])\n",
    "#plt.ylim([-1, 0.4])\n",
    "\n",
    "plt.grid(0.4)\n",
    "plt.legend(fontsize=18,loc=3)\n",
    "\n",
    "\n",
    "plt.tight_layout()\n",
    "plt.savefig('datapoints_phase_transition.eps')"
   ]
  },
  {
   "cell_type": "markdown",
   "metadata": {},
   "source": [
    "## Plot the effect of source task data size"
   ]
  },
  {
   "cell_type": "code",
   "execution_count": 10,
   "metadata": {},
   "outputs": [
    {
     "name": "stdout",
     "output_type": "stream",
     "text": [
      "1.8402620635216012 0.5891366269102105\n"
     ]
    }
   ],
   "source": [
    "c1 = 50\n",
    "\n",
    "a = 1 / (1 - 1.0/ math.sqrt(c1))**4\n",
    "b = 1 / (1 + 1.0/ math.sqrt(c1))**4\n",
    "print(a, b)"
   ]
  },
  {
   "cell_type": "code",
   "execution_count": 11,
   "metadata": {},
   "outputs": [
    {
     "name": "stdout",
     "output_type": "stream",
     "text": [
      "2.495\n"
     ]
    }
   ],
   "source": [
    "d = 0.02\n",
    "sigma = 4\n",
    "p = 200\n",
    "c1 = 50\n",
    "c2 = 500\n",
    "\n",
    "print(d**2 / (sigma**2 / (p * (c2 - 1))))"
   ]
  },
  {
   "cell_type": "code",
   "execution_count": 12,
   "metadata": {},
   "outputs": [
    {
     "name": "stdout",
     "output_type": "stream",
     "text": [
      "[2, 3, 4]\n",
      "[0.01976824486096564, 0.017472445049539907, 0.016088497107503312]\n"
     ]
    }
   ],
   "source": [
    "print(c1_list)\n",
    "print(te_mtl_list)"
   ]
  },
  {
   "cell_type": "code",
   "execution_count": 13,
   "metadata": {},
   "outputs": [
    {
     "name": "stdout",
     "output_type": "stream",
     "text": [
      "\n"
     ]
    },
    {
     "ename": "NameError",
     "evalue": "name 'x_thy' is not defined",
     "output_type": "error",
     "traceback": [
      "\u001b[0;31m---------------------------------------------------------------------------\u001b[0m",
      "\u001b[0;31mNameError\u001b[0m                                 Traceback (most recent call last)",
      "\u001b[0;32m<ipython-input-13-d95266cac6d5>\u001b[0m in \u001b[0;36m<module>\u001b[0;34m\u001b[0m\n\u001b[1;32m      3\u001b[0m \u001b[0mprint\u001b[0m\u001b[0;34m(\u001b[0m\u001b[0;34m)\u001b[0m\u001b[0;34m\u001b[0m\u001b[0;34m\u001b[0m\u001b[0m\n\u001b[1;32m      4\u001b[0m \u001b[0;34m\u001b[0m\u001b[0m\n\u001b[0;32m----> 5\u001b[0;31m \u001b[0;32mfor\u001b[0m \u001b[0ma\u001b[0m\u001b[0;34m,\u001b[0m \u001b[0mb\u001b[0m \u001b[0;32min\u001b[0m \u001b[0mzip\u001b[0m\u001b[0;34m(\u001b[0m\u001b[0mx_thy\u001b[0m\u001b[0;34m,\u001b[0m \u001b[0;36m1.5\u001b[0m\u001b[0;34m*\u001b[0m \u001b[0my_thy\u001b[0m\u001b[0;34m)\u001b[0m\u001b[0;34m:\u001b[0m\u001b[0;34m\u001b[0m\u001b[0;34m\u001b[0m\u001b[0m\n\u001b[0m\u001b[1;32m      6\u001b[0m     \u001b[0mprint\u001b[0m\u001b[0;34m(\u001b[0m\u001b[0ma\u001b[0m\u001b[0;34m,\u001b[0m \u001b[0mb\u001b[0m\u001b[0;34m)\u001b[0m\u001b[0;34m\u001b[0m\u001b[0;34m\u001b[0m\u001b[0m\n\u001b[1;32m      7\u001b[0m \u001b[0mprint\u001b[0m\u001b[0;34m(\u001b[0m\u001b[0;34m)\u001b[0m\u001b[0;34m\u001b[0m\u001b[0;34m\u001b[0m\u001b[0m\n",
      "\u001b[0;31mNameError\u001b[0m: name 'x_thy' is not defined"
     ]
    }
   ],
   "source": [
    "for a, b in zip(np.array(provable_pos[0]) / c2, 1.5* 100*(te_beta_t-np.array(provable_pos[1]) )):\n",
    "    print(a, b)\n",
    "print()\n",
    "\n",
    "for a, b in zip(x_thy, 1.5* y_thy):\n",
    "    print(a, b)\n",
    "print()\n",
    "\n",
    "for a, b in zip(np.array(unknown[0]) / c2, 1.5* 100*(te_beta_t-np.array(unknown[1]) )):\n",
    "    print(a, b)"
   ]
  },
  {
   "cell_type": "code",
   "execution_count": null,
   "metadata": {},
   "outputs": [],
   "source": [
    "np.linalg.norm(beta_t)"
   ]
  },
  {
   "cell_type": "code",
   "execution_count": null,
   "metadata": {},
   "outputs": [],
   "source": []
  }
 ],
 "metadata": {
  "kernelspec": {
   "display_name": "Python 3",
   "language": "python",
   "name": "python3"
  },
  "language_info": {
   "codemirror_mode": {
    "name": "ipython",
    "version": 3
   },
   "file_extension": ".py",
   "mimetype": "text/x-python",
   "name": "python",
   "nbconvert_exporter": "python",
   "pygments_lexer": "ipython3",
   "version": "3.6.8"
  }
 },
 "nbformat": 4,
 "nbformat_minor": 2
}

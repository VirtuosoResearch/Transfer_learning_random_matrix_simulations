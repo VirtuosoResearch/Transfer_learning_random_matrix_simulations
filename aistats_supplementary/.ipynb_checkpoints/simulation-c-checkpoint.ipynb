{
 "cells": [
  {
   "cell_type": "code",
   "execution_count": 1,
   "metadata": {},
   "outputs": [],
   "source": [
    "%load_ext autoreload\n",
    "%autoreload 2\n",
    "%matplotlib inline"
   ]
  },
  {
   "cell_type": "code",
   "execution_count": 2,
   "metadata": {},
   "outputs": [],
   "source": [
    "import matplotlib.pyplot as plt\n",
    "import numpy as np\n",
    "import math\n",
    "from scipy.optimize import minimize_scalar\n",
    "\n",
    "np.random.seed(0)"
   ]
  },
  {
   "cell_type": "code",
   "execution_count": 3,
   "metadata": {},
   "outputs": [],
   "source": [
    "def get_coeff(c_1, c_2, scale):\n",
    "    scale_sq = scale ** 2\n",
    "    part1 = (c_1 - 1) / (c_1 + c_2) + scale_sq / (1 - scale_sq)\n",
    "    part2 = part1 ** 2 + (scale_sq / (1 - scale_sq)) * 4 * c_2 / (c_1 + c_2)**2\n",
    "    assert(part2 >= 0)\n",
    "    \n",
    "    a_1_option1 = (c_1 - 1) / (c_1 + c_2) - (part1 + math.sqrt(part2)) / 2\n",
    "    a_1_option2 = (c_1 - 1) / (c_1 + c_2) - (part1 - math.sqrt(part2)) / 2\n",
    "    isvalid_option1 = a_1_option1 > (c_1 - 1)/(c_1 + c_2) and a_1_option1 < c_1/(c_1 + c_2)\n",
    "    isvalid_option2 = a_1_option2 > (c_1 - 1)/(c_1 + c_2) and a_1_option2 < c_1/(c_1 + c_2)\n",
    "\n",
    "    assert(isvalid_option1 or isvalid_option2)\n",
    "    assert(not (isvalid_option1 and isvalid_option2))\n",
    "    \n",
    "    a_1 = a_1_option1 if isvalid_option1 else a_1_option2\n",
    "    a_2 = 1 - 1/(c_1 + c_2) - a_1\n",
    "    return (a_1, a_2)\n",
    "\n",
    "def te(c_1, c_2, scale):\n",
    "    a_1, a_2 = get_coeff(c_1, c_2, scale)\n",
    "    te = 1/ ((c_1 + c_2) * a_1 / scale**2 + (c_1 + c_2) * a_2)\n",
    "    return te"
   ]
  },
  {
   "cell_type": "markdown",
   "metadata": {},
   "source": [
    "## Complementary covariance matrices"
   ]
  },
  {
   "cell_type": "code",
   "execution_count": 4,
   "metadata": {},
   "outputs": [],
   "source": [
    "def get_coeff2(c_1, c_2, scale):\n",
    "    d = (scale - 1.0/scale)**2\n",
    "    coeff = [0 for i in range(4)]\n",
    "    coeff[0] = -d\n",
    "    coeff[1] = d * (1 + (c_1 - 1.5)/(c_1 + c_2))\n",
    "    coeff[2] = 1 - 1/(c_1 + c_2) - (1 - 1/(c_1 + c_2)) * ((c_1 - 0.5) / (c_1 + c_2)) * d\n",
    "    coeff[3] = - (c_1/(c_1 + c_2)) * (1 - 1/(c_1 + c_2))**2\n",
    "    A = np.roots(coeff)\n",
    "    a_1 = 0\n",
    "    num_valid = 0\n",
    "    for a in A:\n",
    "        if abs(np.imag(a)) <= 0.000001 and a > (c_1 - 1)/(c_1 + c_2) and a < c_1/(c_1 + c_2):\n",
    "            a_1 = a\n",
    "            num_valid += 1\n",
    "            \n",
    "    assert(num_valid == 1)\n",
    "    a_2 = 1 - 1/(c_1 + c_2) - a_1\n",
    "    return (a_1, a_2)\n",
    "\n",
    "def te2(c_1, c_2, scale):\n",
    "    if scale == 1:\n",
    "        return 1/ (c_1 + c_2 - 1)\n",
    "    \n",
    "    a_1, a_2 = get_coeff2(c_1, c_2, scale)\n",
    "    scale_sq = scale**2\n",
    "    te = 0.5 / ((c_1 + c_2) * (scale_sq * a_1 + a_2))\n",
    "    te += 0.5 / ((c_1 + c_2) * (a_1 / scale_sq + a_2))\n",
    "    return te"
   ]
  },
  {
   "cell_type": "code",
   "execution_count": 5,
   "metadata": {},
   "outputs": [
    {
     "data": {
      "text/plain": [
       "0.14285714285714293"
      ]
     },
     "execution_count": 5,
     "metadata": {},
     "output_type": "execute_result"
    }
   ],
   "source": [
    "c_1 = 4.0\n",
    "c_2 = 4.0\n",
    "scale = 10.0\n",
    "\n",
    "te2(c_1, c_2, scale)"
   ]
  },
  {
   "cell_type": "markdown",
   "metadata": {},
   "source": [
    "# empirical"
   ]
  },
  {
   "cell_type": "code",
   "execution_count": 6,
   "metadata": {},
   "outputs": [],
   "source": [
    "# params\n",
    "p = 200\n",
    "c1 = 4\n",
    "c2 = 4\n",
    "n2 = c2 * p\n",
    "sigma = 0.5\n",
    "\n",
    "# covariates\n",
    "X2 = np.random.randn(n2, p)\n",
    "\n",
    "# models\n",
    "beta_t = np.random.randn(p, 1) / math.sqrt(p)\n",
    "\n",
    "# labels\n",
    "Y2 = X2 @ beta_t + sigma * np.random.randn(n2, 1)\n",
    "hat_beta_t = np.linalg.inv(X2.T @ X2) @ X2.T @ Y2\n",
    "\n",
    "def te_target(X1, X2, beta_s, beta_t, w, sigma_2 = sigma, Sigma2_sqrt = np.eye(p)):\n",
    "    K = np.linalg.inv(w**2 * X1.T @ X1 + X2.T @ X2)\n",
    "    beta_diff = beta_s - w * beta_t\n",
    "    \n",
    "    var = sigma_2**2 * np.trace(K @ Sigma2_sqrt @ Sigma2_sqrt)\n",
    "    model_shift_bias = w**2 * np.linalg.norm(Sigma2_sqrt @ K @ X1.T @ X1 @ beta_diff) **2\n",
    "    return model_shift_bias + var\n",
    "\n",
    "def mtl_target(X1, X2, beta_s, beta_t, w, n1, n2, Sigma_1_sqrt = np.eye(p), Sigma_2_sqrt = np.eye(p)):\n",
    "    K = np.linalg.inv(w**2 * X1.T @ X1 + X2.T @ X2)\n",
    "    beta_diff = beta_s - w * beta_t\n",
    "    \n",
    "    var = sigma**2 * (n1 + n2) * np.trace(K)\n",
    "    model_shift_bias = n1 * (np.linalg.norm(K @ X2.T @ X2 @ beta_diff) ** 2)\n",
    "    model_shift_bias += n2 * w**2 * (np.linalg.norm(K @ X1.T @ X1 @ beta_diff) ** 2)\n",
    "    return (model_shift_bias + var) / (n1 + n2)"
   ]
  },
  {
   "cell_type": "code",
   "execution_count": 7,
   "metadata": {},
   "outputs": [],
   "source": [
    "def opt_w_val(X1, X2, beta_s, beta_t, n1, n2, c = 1, lb = 0.0, ub = 5.0, num = 10):\n",
    "    def f_val(w):\n",
    "        return mtl_target(X1, X2, beta_s, beta_t, w, n1, n2)\n",
    "    \n",
    "    gap = ub / num\n",
    "    x_list = []\n",
    "    fun_list = []\n",
    "    for u in range(0, num):\n",
    "        res = minimize_scalar(f_val, bounds=(gap* u, gap* (u+1)), method='bounded')\n",
    "        x_list.append(res.x)\n",
    "        fun_list.append(res.fun)\n",
    "    \n",
    "    plt.figure(c)\n",
    "    plt.plot(x_list, fun_list)\n",
    "    \n",
    "    return x_list[np.argmin(fun_list)]\n",
    "\n",
    "def opt_w(X1, X2, beta_s, beta_t, c = 1, lb = 0.0, ub = 5.0, num = 10):\n",
    "    def f(w):\n",
    "        return te_target(X1, X2, beta_s, beta_t, w)\n",
    "\n",
    "    gap = ub / num\n",
    "    x_list = []\n",
    "    fun_list = []\n",
    "    for u in range(0, num):\n",
    "        res = minimize_scalar(f, bounds=(gap* u, gap* (u+1)), method='bounded')\n",
    "        x_list.append(res.x)\n",
    "        fun_list.append(res.fun)\n",
    "        \n",
    "    plt.figure(c)\n",
    "    plt.plot(x_list, fun_list)\n",
    "        \n",
    "    return x_list[np.argmin(fun_list)]"
   ]
  },
  {
   "cell_type": "code",
   "execution_count": 45,
   "metadata": {},
   "outputs": [],
   "source": [
    "d = 0.00\n",
    "c1_list = np.array([i for i in range(1, 21)])\n",
    "scale_list = [1, 2, 4]\n",
    "\n",
    "te_mtl_list = []\n",
    "\n",
    "provable_pos = [[], []]\n",
    "provable_neg = [[], []]\n",
    "unknown = [[], []]\n",
    "\n",
    "beta_s = beta_t + d * np.random.randn(p, 1)\n",
    "\n",
    "for s in scale_list:\n",
    "    s_diag = s * np.ones(p)\n",
    "    for i in range(int(p/2), p):\n",
    "        s_diag[i] = s_diag[i] / s**2\n",
    "\n",
    "    for c1 in c1_list:\n",
    "        n1 = c1 * p\n",
    "        X1 = np.random.randn(n1, p) @ np.diag(s_diag)\n",
    "        Y1 = X1 @ beta_s + sigma * np.random.randn(n1, 1)\n",
    "\n",
    "        #hat_beta_st = np.linalg.inv(X1.T @ X1 + X2.T @ X2) @ (X1.T @ Y1 + X2.T @ Y2)\n",
    "        hat_w = 1 # opt_w_val(X1, X2, beta_s, beta_t, n1, n2)\n",
    "        te_beta_st = te_target(X1, X2, beta_s, beta_t, hat_w)\n",
    "\n",
    "        #te_beta_st = np.linalg.norm(test_X2 @ hat_beta_st - test_Y2) ** 2 / test_n2\n",
    "        te_mtl_list.append(te_beta_st)\n",
    "\n",
    "        #delta_beta_base = p * c1**2 * (c1 + c2) / (c1 + c2 - 1)**3\n",
    "        #delta_beta = ((1 - hat_w)**2 + d**2) * delta_beta_base\n",
    "        #delta_var = sigma**2 * c1 / ((c2 - 1) * (c1 + c2 - 1))\n",
    "        #deviation_ub = (1 + math.sqrt(1/c1))**4\n",
    "        #deviation_lb = (1 - math.sqrt(1/c1))**4\n",
    "\n",
    "        #if delta_var / delta_beta > deviation_ub:\n",
    "        #    provable_pos[0].append(c1)\n",
    "        #    provable_pos[1].append(te_beta_st)\n",
    "        #elif delta_var / delta_beta < deviation_lb:    \n",
    "        #    provable_neg[0].append(c1)\n",
    "        #    provable_neg[1].append(te_beta_st)\n",
    "        #else:\n",
    "        #    unknown[0].append(c1)\n",
    "        #    unknown[1].append(te_beta_st)"
   ]
  },
  {
   "cell_type": "code",
   "execution_count": null,
   "metadata": {},
   "outputs": [],
   "source": []
  },
  {
   "cell_type": "code",
   "execution_count": 47,
   "metadata": {},
   "outputs": [
    {
     "data": {
      "text/plain": [
       "array([ 1,  2,  3,  4,  5,  6,  7,  8,  9, 10, 11, 12, 13, 14, 15, 16, 17,\n",
       "       18, 19, 20])"
      ]
     },
     "execution_count": 47,
     "metadata": {},
     "output_type": "execute_result"
    }
   ],
   "source": [
    "c1_list"
   ]
  },
  {
   "cell_type": "code",
   "execution_count": 84,
   "metadata": {},
   "outputs": [
    {
     "name": "stderr",
     "output_type": "stream",
     "text": [
      "The PostScript backend does not support transparency; partially transparent artists will be rendered opaque.\n",
      "The PostScript backend does not support transparency; partially transparent artists will be rendered opaque.\n"
     ]
    },
    {
     "data": {
      "image/png": "[encoded data removed]",
      "text/plain": [
       "<Figure size 432x360 with 1 Axes>"
      ]
     },
     "metadata": {
      "needs_background": "light"
     },
     "output_type": "display_data"
    }
   ],
   "source": [
    "plt.figure(figsize=(6,5))\n",
    "\n",
    "for i, ts in enumerate(te_list):\n",
    "    if i == 2:\n",
    "        plt.plot(c1_list * p, te_emp_list[i], c='k', linestyle='--', dashes=(1, 3), lw=4, label='$\\lambda = 4$')\n",
    "        plt.plot(c1_list * p, ts, c='g', lw=2, label=r'$\\lambda = 4$')\n",
    "\n",
    "for i, ts in enumerate(te_list):\n",
    "    if i == 1:\n",
    "        plt.plot(c1_list * p, te_emp_list[i], linestyle='--', dashes=(1, 2), lw=4, c='k', label='$\\lambda = 2$')\n",
    "        plt.plot(c1_list * p, ts, c='y', lw=2, label=r'$\\lambda = 2$')\n",
    "        \n",
    "for i, ts in enumerate(te_list):\n",
    "    if i == 0:\n",
    "        plt.plot(c1_list * p,  te_emp_list[i], linestyle='--', dashes=(1, 1),  c='k', lw=4, label=r'$\\lambda = 1$')\n",
    "        plt.plot(c1_list * p, ts, c='r', lw=2, label=r'$\\lambda = 1$')\n",
    "        \n",
    "plt.xlabel('Task one\\'s sample size', fontsize=18)\n",
    "plt.ylabel('Task two\\'s prediction loss', fontsize=18)\n",
    "#axes = plt.gca()\n",
    "#axes.set_xlim([1.0, 20.0])\n",
    "\n",
    "plt.yticks(np.arange(0.02, 0.06, 0.01), fontsize=14)\n",
    "plt.xticks(np.arange(800, 4800, 800), fontsize=14)\n",
    "plt.xlim([500, 4000])\n",
    "plt.ylim([0.01, 0.05])\n",
    "\n",
    "\n",
    "plt.grid(ls = ':', lw=0.8)\n",
    "plt.legend(fontsize=16)#,loc=3)\n",
    "plt.tight_layout()\n",
    "plt.savefig('covariate_shift.eps')"
   ]
  },
  {
   "cell_type": "code",
   "execution_count": null,
   "metadata": {},
   "outputs": [],
   "source": []
  },
  {
   "cell_type": "code",
   "execution_count": null,
   "metadata": {},
   "outputs": [],
   "source": []
  },
  {
   "cell_type": "code",
   "execution_count": null,
   "metadata": {},
   "outputs": [],
   "source": []
  }
 ],
 "metadata": {
  "kernelspec": {
   "display_name": "Python 3",
   "language": "python",
   "name": "python3"
  },
  "language_info": {
   "codemirror_mode": {
    "name": "ipython",
    "version": 3
   },
   "file_extension": ".py",
   "mimetype": "text/x-python",
   "name": "python",
   "nbconvert_exporter": "python",
   "pygments_lexer": "ipython3",
   "version": "3.6.8"
  }
 },
 "nbformat": 4,
 "nbformat_minor": 2
}
